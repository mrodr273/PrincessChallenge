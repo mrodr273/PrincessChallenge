{
 "cells": [
  {
   "cell_type": "markdown",
   "metadata": {},
   "source": [
    "# The Princess Challenge\n",
    "\n",
    "## Solution with Python Standard Library\n"
   ]
  },
  {
   "cell_type": "markdown",
   "metadata": {},
   "source": [
    "## 1. Getting startet...one simulation"
   ]
  },
  {
   "cell_type": "markdown",
   "metadata": {},
   "source": [
    "__100 princes (applicants)__ ask for the Princess´ hand in marriage. The 100 princes can be ranked by quality from __1 (lowest quality)__ to __100 (highest quality, the \"Prince Charming\")__. The Princess dates one prince after another (the __order is random__) and at the end of each Date, she has to __decide irrevocably__, whether to __dismiss__ the prince or __select the prince as her husband__. Once she has selected one prince, the game stops.<br>\n",
    "\n",
    "The Princess is very __picky__ and wants to __maximise the probability__ of selecting Prince Charming, the __prince with quality 100__. All or nothing. <br>\n",
    "\n",
    "As the Princess is neither familiar with Python nor with math, she chooses the __following naive strategy__:<br>\n",
    "\n",
    "- The Princess group the __first 50 princes into a testgroup__ and the __last 50 princes into a selectgroup__. <br>\n",
    "\n",
    "- She __dismisses all princes of the testgroup__ and memorizes the __quality of the best prince__ in the testgroup.<br>\n",
    "\n",
    "- In the __selectgroup__, she selects the __first prince__, that has a __higher quality than the best prince in the testgroup__.<br>\n",
    "\n",
    "Alright, let´s start coding, we assign \n",
    "- __100__ to the variable __size_applicants__ \n",
    "- __50__ to the variable __size_testgroup__"
   ]
  },
  {
   "cell_type": "code",
   "execution_count": 1,
   "metadata": {},
   "outputs": [],
   "source": [
    "size_applicants = 100\n",
    "size_testgroup = 50"
   ]
  },
  {
   "cell_type": "markdown",
   "metadata": {},
   "source": [
    "Before we can simulate the random order of princes, we have to __import the \"random\" module__ first..."
   ]
  },
  {
   "cell_type": "code",
   "execution_count": 14,
   "metadata": {},
   "outputs": [],
   "source": [
    "import random"
   ]
  },
  {
   "cell_type": "markdown",
   "metadata": {},
   "source": [
    "First of all, let´s create a __list__ with the __sorted order of 100 princes__. <br><br>\n",
    "Therefore, create a __range()__ object from __1 till 100 (both ends inclusive)__ and then __transform__ the range object into a __list__. Use the __variable size_applicants__ as an __argument to the range() function__. Store the list in the variable __applicants_sorted__. "
   ]
  },
  {
   "cell_type": "code",
   "execution_count": 16,
   "metadata": {
    "scrolled": true
   },
   "outputs": [],
   "source": [
    "applicants_sorted = list(range(1,size_applicants+1))\n"
   ]
  },
  {
   "cell_type": "markdown",
   "metadata": {},
   "source": [
    "__Print__ the list __applicants_sorted__ and check whether your code gives the desired result (__integers from 1 till 100__)."
   ]
  },
  {
   "cell_type": "code",
   "execution_count": 17,
   "metadata": {
    "scrolled": true
   },
   "outputs": [
    {
     "name": "stdout",
     "output_type": "stream",
     "text": [
      "[1, 2, 3, 4, 5, 6, 7, 8, 9, 10, 11, 12, 13, 14, 15, 16, 17, 18, 19, 20, 21, 22, 23, 24, 25, 26, 27, 28, 29, 30, 31, 32, 33, 34, 35, 36, 37, 38, 39, 40, 41, 42, 43, 44, 45, 46, 47, 48, 49, 50, 51, 52, 53, 54, 55, 56, 57, 58, 59, 60, 61, 62, 63, 64, 65, 66, 67, 68, 69, 70, 71, 72, 73, 74, 75, 76, 77, 78, 79, 80, 81, 82, 83, 84, 85, 86, 87, 88, 89, 90, 91, 92, 93, 94, 95, 96, 97, 98, 99, 100]\n"
     ]
    }
   ],
   "source": [
    "print(applicants_sorted)"
   ]
  },
  {
   "cell_type": "markdown",
   "metadata": {},
   "source": [
    "Very Good! Now let´s __unsort our list__ and create a __random order__. <br><br>\n",
    "Therefore, create a __random sample of applicants_sorted__ by passing __applicants_sorted__ to the __function random.sample()__. <br>\n",
    "As we want to __unsort/sample all 100 princes__, we also have to pass __size_applicants__ as the __second argument__ to the function random.sample()."
   ]
  },
  {
   "cell_type": "code",
   "execution_count": 20,
   "metadata": {
    "scrolled": true
   },
   "outputs": [
    {
     "data": {
      "text/plain": [
       "[19,\n",
       " 38,\n",
       " 65,\n",
       " 34,\n",
       " 97,\n",
       " 40,\n",
       " 59,\n",
       " 9,\n",
       " 85,\n",
       " 21,\n",
       " 28,\n",
       " 61,\n",
       " 6,\n",
       " 66,\n",
       " 83,\n",
       " 52,\n",
       " 87,\n",
       " 10,\n",
       " 69,\n",
       " 49,\n",
       " 62,\n",
       " 67,\n",
       " 33,\n",
       " 88,\n",
       " 1,\n",
       " 80,\n",
       " 89,\n",
       " 44,\n",
       " 82,\n",
       " 90,\n",
       " 7,\n",
       " 36,\n",
       " 31,\n",
       " 22,\n",
       " 11,\n",
       " 23,\n",
       " 37,\n",
       " 45,\n",
       " 42,\n",
       " 32,\n",
       " 4,\n",
       " 93,\n",
       " 86,\n",
       " 74,\n",
       " 26,\n",
       " 84,\n",
       " 98,\n",
       " 46,\n",
       " 29,\n",
       " 73,\n",
       " 79,\n",
       " 54,\n",
       " 15,\n",
       " 16,\n",
       " 92,\n",
       " 56,\n",
       " 91,\n",
       " 35,\n",
       " 41,\n",
       " 64,\n",
       " 5,\n",
       " 100,\n",
       " 14,\n",
       " 75,\n",
       " 77,\n",
       " 96,\n",
       " 30,\n",
       " 81,\n",
       " 53,\n",
       " 8,\n",
       " 17,\n",
       " 3,\n",
       " 48,\n",
       " 43,\n",
       " 47,\n",
       " 13,\n",
       " 50,\n",
       " 76,\n",
       " 68,\n",
       " 24,\n",
       " 63,\n",
       " 57,\n",
       " 72,\n",
       " 71,\n",
       " 20,\n",
       " 27,\n",
       " 99,\n",
       " 58,\n",
       " 70,\n",
       " 39,\n",
       " 18,\n",
       " 94,\n",
       " 51,\n",
       " 2,\n",
       " 55,\n",
       " 95,\n",
       " 25,\n",
       " 60,\n",
       " 78,\n",
       " 12]"
      ]
     },
     "execution_count": 20,
     "metadata": {},
     "output_type": "execute_result"
    }
   ],
   "source": [
    "random.sample(applicants_sorted,size_applicants)"
   ]
  },
  {
   "cell_type": "markdown",
   "metadata": {},
   "source": [
    "__Check__ the __randomly sorted list__  and __run the above cell again__ and again. In each run, you should get __different results__, right?"
   ]
  },
  {
   "cell_type": "markdown",
   "metadata": {},
   "source": [
    "If we want to get __identical random results__ in each run, we have to __set a random seed__.<br>\n",
    "Pass __114 to random.seed()__ and __randomly sample applicants_sorted__ again. Store the result in the variable __applicants_unsorted__."
   ]
  },
  {
   "cell_type": "code",
   "execution_count": 25,
   "metadata": {
    "scrolled": true
   },
   "outputs": [],
   "source": [
    "random.seed(114)\n",
    "applicants_unsorted = random.sample(applicants_sorted,size_applicants)"
   ]
  },
  {
   "cell_type": "markdown",
   "metadata": {},
   "source": [
    "__Print applicants_unsorted__ and check the __length with len()__. Should be __100__.<br>\n",
    "The __first prince__ has the quality ... __31__, right?"
   ]
  },
  {
   "cell_type": "code",
   "execution_count": 26,
   "metadata": {
    "scrolled": true
   },
   "outputs": [
    {
     "name": "stdout",
     "output_type": "stream",
     "text": [
      "[31, 73, 13, 44, 86, 32, 81, 80, 7, 20, 67, 68, 87, 90, 38, 75, 9, 69, 48, 97, 14, 12, 60, 51, 15, 89, 39, 82, 85, 56, 59, 30, 62, 29, 43, 74, 98, 63, 6, 71, 84, 37, 66, 42, 17, 23, 11, 49, 34, 77, 64, 100, 22, 72, 52, 78, 92, 91, 99, 4, 93, 28, 47, 18, 57, 96, 40, 16, 46, 76, 3, 5, 19, 33, 25, 95, 79, 24, 41, 55, 26, 65, 83, 88, 1, 61, 45, 58, 27, 10, 8, 21, 50, 70, 94, 35, 54, 2, 36, 53]\n"
     ]
    }
   ],
   "source": [
    "print(applicants_unsorted)"
   ]
  },
  {
   "cell_type": "code",
   "execution_count": 27,
   "metadata": {
    "scrolled": true
   },
   "outputs": [
    {
     "data": {
      "text/plain": [
       "100"
      ]
     },
     "execution_count": 27,
     "metadata": {},
     "output_type": "execute_result"
    }
   ],
   "source": [
    "len(applicants_unsorted)"
   ]
  },
  {
   "cell_type": "markdown",
   "metadata": {
    "collapsed": true
   },
   "source": [
    "Alright, that works. Now let´s __slice__ applicants_unsorted for the __testgroup__.<br>\n",
    "Remember: The __first 50 princes__ form the __testgroup__. The Princess __dates__ and __dismisses all of them__.<br> <br>  \n",
    "- __Slice applicants_unsorted__ with __square brackets__ from the __first prince__ until and inclusive the __50th prince__.  \n",
    "- Use the variable __size_testgroup__ to slice.\n",
    "- Assign the __variable testgroup__ to the result."
   ]
  },
  {
   "cell_type": "code",
   "execution_count": 32,
   "metadata": {
    "scrolled": true
   },
   "outputs": [],
   "source": [
    "testgroup = applicants_unsorted[:size_testgroup]"
   ]
  },
  {
   "cell_type": "markdown",
   "metadata": {},
   "source": [
    "__Print testgroup__ and check the __number of princes__ in the testgroup with __len()__. Should be __50__."
   ]
  },
  {
   "cell_type": "code",
   "execution_count": 33,
   "metadata": {
    "scrolled": true
   },
   "outputs": [
    {
     "name": "stdout",
     "output_type": "stream",
     "text": [
      "[31, 73, 13, 44, 86, 32, 81, 80, 7, 20, 67, 68, 87, 90, 38, 75, 9, 69, 48, 97, 14, 12, 60, 51, 15, 89, 39, 82, 85, 56, 59, 30, 62, 29, 43, 74, 98, 63, 6, 71, 84, 37, 66, 42, 17, 23, 11, 49, 34, 77]\n"
     ]
    }
   ],
   "source": [
    "print(testgroup)"
   ]
  },
  {
   "cell_type": "code",
   "execution_count": 34,
   "metadata": {},
   "outputs": [
    {
     "data": {
      "text/plain": [
       "50"
      ]
     },
     "execution_count": 34,
     "metadata": {},
     "output_type": "execute_result"
    }
   ],
   "source": [
    "len(testgroup)"
   ]
  },
  {
   "cell_type": "markdown",
   "metadata": {},
   "source": [
    "Well done! Now let´s __search for the best prince__ with the highest quality in the testgroup.<br><br>\n",
    "Apply the function __max()__ to testgroup and __store the best prince__ in the variable __testgroup_best__. Then __print testgroup_best__."
   ]
  },
  {
   "cell_type": "code",
   "execution_count": 36,
   "metadata": {},
   "outputs": [],
   "source": [
    "#get the best prince in testgroup (testgroup_best)\n",
    "testgroup_best = max(testgroup)"
   ]
  },
  {
   "cell_type": "code",
   "execution_count": 37,
   "metadata": {},
   "outputs": [
    {
     "name": "stdout",
     "output_type": "stream",
     "text": [
      "98\n"
     ]
    }
   ],
   "source": [
    "#print testgroup_best\n",
    "print(testgroup_best)"
   ]
  },
  {
   "cell_type": "markdown",
   "metadata": {},
   "source": [
    "The __best prince__ of the testgroup has the __quality__ ... __98__, right?"
   ]
  },
  {
   "cell_type": "markdown",
   "metadata": {
    "collapsed": true
   },
   "source": [
    "Let´s also slice for the last 50 princes, that form the selectgroup. The Princess will choose her future husband from this group.<br><br>\n",
    "- __Slice applicants_unsorted__ for the __last 50 princes__. \n",
    "- Use __size_testgroup__ within the square brackets.\n",
    "- __Save__ the result in the variable __selectgroup__ "
   ]
  },
  {
   "cell_type": "code",
   "execution_count": 40,
   "metadata": {},
   "outputs": [],
   "source": [
    "selectgroup = applicants_unsorted[size_testgroup:]"
   ]
  },
  {
   "cell_type": "markdown",
   "metadata": {},
   "source": [
    "__Print selectgroup__ and check the __amount of princes__ in the selectgroup, should be __50__, right?"
   ]
  },
  {
   "cell_type": "code",
   "execution_count": 41,
   "metadata": {
    "scrolled": true
   },
   "outputs": [
    {
     "name": "stdout",
     "output_type": "stream",
     "text": [
      "[64, 100, 22, 72, 52, 78, 92, 91, 99, 4, 93, 28, 47, 18, 57, 96, 40, 16, 46, 76, 3, 5, 19, 33, 25, 95, 79, 24, 41, 55, 26, 65, 83, 88, 1, 61, 45, 58, 27, 10, 8, 21, 50, 70, 94, 35, 54, 2, 36, 53]\n"
     ]
    }
   ],
   "source": [
    "#print selectgroup\n",
    "print(selectgroup)"
   ]
  },
  {
   "cell_type": "code",
   "execution_count": 42,
   "metadata": {},
   "outputs": [
    {
     "data": {
      "text/plain": [
       "50"
      ]
     },
     "execution_count": 42,
     "metadata": {},
     "output_type": "execute_result"
    }
   ],
   "source": [
    "#check length of selectgroup\n",
    "len(selectgroup)"
   ]
  },
  {
   "cell_type": "markdown",
   "metadata": {},
   "source": [
    "Well done! The __first prince__ in the selectgroup has the __quality__ ... __64__. "
   ]
  },
  {
   "cell_type": "markdown",
   "metadata": {},
   "source": [
    "Now let´s __check for all princes in the selectgroup__, whether their __quality is higher__ than the quality of the __best prince in the testgroup__ (testgroup_best).<br><br>\n",
    "\n",
    "\n",
    "Therefore let´s __iterate over all elements__ (=i) of selectgroup with a __for loop__.<br>\n",
    "In each iteration, print:<br>\n",
    "\n",
    "- the quality of the prince (__i__)\n",
    "- __testgroup_best__\n",
    "- __boolean value__ indicating, whether i is __greater than__ testgroup_best<br><br>\n",
    "__Fill the gaps ---__ !"
   ]
  },
  {
   "cell_type": "code",
   "execution_count": 44,
   "metadata": {
    "scrolled": true
   },
   "outputs": [
    {
     "name": "stdout",
     "output_type": "stream",
     "text": [
      "64 98 False\n",
      "100 98 True\n",
      "22 98 False\n",
      "72 98 False\n",
      "52 98 False\n",
      "78 98 False\n",
      "92 98 False\n",
      "91 98 False\n",
      "99 98 True\n",
      "4 98 False\n",
      "93 98 False\n",
      "28 98 False\n",
      "47 98 False\n",
      "18 98 False\n",
      "57 98 False\n",
      "96 98 False\n",
      "40 98 False\n",
      "16 98 False\n",
      "46 98 False\n",
      "76 98 False\n",
      "3 98 False\n",
      "5 98 False\n",
      "19 98 False\n",
      "33 98 False\n",
      "25 98 False\n",
      "95 98 False\n",
      "79 98 False\n",
      "24 98 False\n",
      "41 98 False\n",
      "55 98 False\n",
      "26 98 False\n",
      "65 98 False\n",
      "83 98 False\n",
      "88 98 False\n",
      "1 98 False\n",
      "61 98 False\n",
      "45 98 False\n",
      "58 98 False\n",
      "27 98 False\n",
      "10 98 False\n",
      "8 98 False\n",
      "21 98 False\n",
      "50 98 False\n",
      "70 98 False\n",
      "94 98 False\n",
      "35 98 False\n",
      "54 98 False\n",
      "2 98 False\n",
      "36 98 False\n",
      "53 98 False\n"
     ]
    }
   ],
   "source": [
    "for i in selectgroup:\n",
    "    print(i, testgroup_best, i > testgroup_best)"
   ]
  },
  {
   "cell_type": "markdown",
   "metadata": {},
   "source": [
    "The Princess selects the __very first prince in the selectgroup__, that has a __higher quality than testgroup_best__. __How many dates__ will the Princess have in the selectgroup? Is the Princess successful and selects her one and only Prince Charming (__quality = 100__)? <br><br>\n",
    "\n",
    "The answer is ... she selects the __second prince__ in the selectgroup and he is indeed __Prince Charming__!!!<br>\n",
    "What a success and all without Python and math."
   ]
  },
  {
   "cell_type": "markdown",
   "metadata": {},
   "source": [
    "Alright, let´s __finetune__ our code and we __combine for the loop with if/else statements__. <br>\n",
    "- We will store the prince, that the Princess selects, in the __variable selection__. And before the Princess starts to date the princes of the selectgroup, the __selection is set to 0__ (no prince selected). \n",
    "- Then the Princess dates one prince after another and she determines for each prince, __whether he is of higher quality__ than testgroup_best or not. \n",
    "- If he is of __higher quality__, the Princess __selects__ him and the game stops (keyword __break__).\n",
    "- If he is of __lower quality__, the Princess __dismisses__ him (keyword __pass__) and dates the next prince.\n",
    "- Finally __print selection__ to display the __result__ of her casting.<br><br>\n",
    "\n",
    "__Fill the gaps__!"
   ]
  },
  {
   "cell_type": "code",
   "execution_count": 45,
   "metadata": {},
   "outputs": [
    {
     "name": "stdout",
     "output_type": "stream",
     "text": [
      "100\n"
     ]
    }
   ],
   "source": [
    "selection = 0\n",
    "for i in selectgroup:\n",
    "    if i > testgroup_best:\n",
    "        selection = i \n",
    "        break\n",
    "    else:\n",
    "        pass\n",
    "print(selection)"
   ]
  },
  {
   "cell_type": "markdown",
   "metadata": {},
   "source": [
    "And the result ... the Princess selects Prince Charming!!! "
   ]
  },
  {
   "cell_type": "markdown",
   "metadata": {},
   "source": [
    "Let´s collect all code that we produced so far and __merge it into one cell__.<br>\n",
    "Follow the instructions, copy and paste the code and run the cell!"
   ]
  },
  {
   "cell_type": "code",
   "execution_count": 56,
   "metadata": {},
   "outputs": [
    {
     "name": "stdout",
     "output_type": "stream",
     "text": [
      "100\n"
     ]
    }
   ],
   "source": [
    "#seed(144) try changing\n",
    "random.seed(144)\n",
    "applicants_unsorted = random.sample(applicants_sorted,size_applicants)\n",
    "#testgroup = ---\n",
    "testgroup = applicants_unsorted[:size_testgroup]\n",
    "#testgroup_best = ---\n",
    "testgroup_best = max(testgroup)\n",
    "#selectgroup = ---\n",
    "selectgroup = applicants_unsorted[size_testgroup:]\n",
    "#selection = 0\n",
    "selection = 0\n",
    "#insert here for loop and if/else statement\n",
    "for i in selectgroup:\n",
    "    if i > testgroup_best:\n",
    "        selection = i \n",
    "        break\n",
    "    else:\n",
    "        pass\n",
    "print(selection)"
   ]
  },
  {
   "cell_type": "markdown",
   "metadata": {},
   "source": [
    "No surprise! We again selected Prince Charming. "
   ]
  },
  {
   "cell_type": "markdown",
   "metadata": {
    "collapsed": true
   },
   "source": [
    "Since we used the __same random.seed parameter (114)__, we end up with the __same result__ as before, __the prince with quality 100__. This is exactly what we wanted. But does this mean that, with this strategy, it is __100% certain to select Prince Charming?__<br> To answer this question, we have to simulate this process many times (__many simulations__) and get many data points instead of only one data point. The resulting __frequency distribution of all simulations__ will give us more information about what we can expect. <br> <br> \n",
    "But before we start automating the process of getting many simulations, we try to do this manually and __change the seed parameter__ in our code above to __100, 111 and 123__. And each time we __run the cell__ and __inspect the result__."
   ]
  },
  {
   "cell_type": "markdown",
   "metadata": {},
   "source": [
    "Alright, we got two times 0 (The Princess selected no prince at all, obviously Price Charming was already in the testgroup).<br> \n",
    "And we got one time 100. This is very volatile, all or nothing! This is what I would call a picky Princess!!!"
   ]
  },
  {
   "cell_type": "markdown",
   "metadata": {
    "collapsed": true
   },
   "source": [
    "## 2. Getting  probabilistic...with many simulations"
   ]
  },
  {
   "cell_type": "markdown",
   "metadata": {
    "collapsed": true
   },
   "source": [
    "Ok, let´s simulate our process many times and we start smoothly and set the number of simulations (__sims__) to __10__."
   ]
  },
  {
   "cell_type": "code",
   "execution_count": 57,
   "metadata": {},
   "outputs": [],
   "source": [
    "sims = 10"
   ]
  },
  {
   "cell_type": "markdown",
   "metadata": {
    "collapsed": true
   },
   "source": [
    "__Copy__ the code block from above and __add at the very top__: \n",
    "- an __empty list called results__ where you can store the result of each simulation (quality of selected prince)\n",
    "- start another (outer) __for loop__ to make 10 simulations/albums.\n",
    "\n",
    " "
   ]
  },
  {
   "cell_type": "markdown",
   "metadata": {},
   "source": [
    "__Complete__ the code and __fill the gaps__!"
   ]
  },
  {
   "cell_type": "code",
   "execution_count": 62,
   "metadata": {},
   "outputs": [],
   "source": [
    "results = []\n",
    "random.seed(114)\n",
    "for simulation in range(sims):\n",
    "    \n",
    "    #random.seed(114)\n",
    "    applicants_sorted = list(range(1, size_applicants+1))\n",
    "    applicants_unsorted = random.sample(applicants_sorted, size_applicants)\n",
    "    testgroup = applicants_unsorted[:size_testgroup]\n",
    "    testgroup_best = max(testgroup)\n",
    "    selectgroup = applicants_unsorted[size_testgroup:]\n",
    "    \n",
    "    selection = 0\n",
    "    for i in selectgroup:\n",
    "        if i > testgroup_best:\n",
    "            selection = i \n",
    "            break\n",
    "        else:\n",
    "            pass\n",
    "    results.append(selection)"
   ]
  },
  {
   "cell_type": "markdown",
   "metadata": {
    "collapsed": true
   },
   "source": [
    "Let´s inspect the results... Do you notice anything strange?"
   ]
  },
  {
   "cell_type": "code",
   "execution_count": 63,
   "metadata": {},
   "outputs": [
    {
     "name": "stdout",
     "output_type": "stream",
     "text": [
      "[100, 0, 0, 99, 100, 99, 99, 95, 100, 99]\n"
     ]
    }
   ],
   "source": [
    "#print out results\n",
    "print(results)"
   ]
  },
  {
   "cell_type": "markdown",
   "metadata": {
    "collapsed": true
   },
   "source": [
    "We have ten simulations and __each time__ we selected Prince Charming. Is this by chance? No!<br>\n",
    "We need to place the __random.seed__ statement __outside both for_loops__ to the very top of our code!\n",
    "<br>Let´s rearrange above and inspect the results again!..."
   ]
  },
  {
   "cell_type": "markdown",
   "metadata": {},
   "source": [
    "OK now we get __different results__ and it looks like that either the Princess selects no prince at all or a very high quality prince!"
   ]
  },
  {
   "cell_type": "markdown",
   "metadata": {},
   "source": [
    "Let´s further __increase simulations to 1000__ to further reduce the impact of randomness (random noise). This is important when we later calculate statistics like mean, median, etc.<br><br>\n",
    "Let´s continue. Copy the above code block and add __sims = 1000__ at the very top and run the code."
   ]
  },
  {
   "cell_type": "code",
   "execution_count": 67,
   "metadata": {},
   "outputs": [],
   "source": [
    "results = []\n",
    "sims = 1000\n",
    "random.seed(114)\n",
    "for simulation in range(sims):\n",
    "    \n",
    "    #random.seed(114)\n",
    "    applicants_sorted = list(range(1, size_applicants+1))\n",
    "    applicants_unsorted = random.sample(applicants_sorted, size_applicants)\n",
    "    testgroup = applicants_unsorted[:size_testgroup]\n",
    "    testgroup_best = max(testgroup)\n",
    "    selectgroup = applicants_unsorted[size_testgroup:]\n",
    "    \n",
    "    selection = 0\n",
    "    for i in selectgroup:\n",
    "        if i > testgroup_best:\n",
    "            selection = i \n",
    "            break\n",
    "        else:\n",
    "            pass\n",
    "    results.append(selection)\n",
    "    "
   ]
  },
  {
   "cell_type": "markdown",
   "metadata": {},
   "source": [
    "Make a sanity check and call __len(results)__. This should be __1000__!"
   ]
  },
  {
   "cell_type": "code",
   "execution_count": 68,
   "metadata": {},
   "outputs": [
    {
     "data": {
      "text/plain": [
       "1000"
      ]
     },
     "execution_count": 68,
     "metadata": {},
     "output_type": "execute_result"
    }
   ],
   "source": [
    "len(results)"
   ]
  },
  {
   "cell_type": "markdown",
   "metadata": {},
   "source": [
    "Perfect! In the next section we will __analyze__ our 1000 results."
   ]
  },
  {
   "cell_type": "markdown",
   "metadata": {},
   "source": [
    "## 3. Analyzing results and calculating statistics"
   ]
  },
  {
   "cell_type": "markdown",
   "metadata": {},
   "source": [
    "Perfect! Now it´s time to inspect our results in a more detailed way. Let´s calculate \n",
    "- the Minimum using __min()__ --> assign __Min__\n",
    "- the Maximum using __max()__ --> assign __Max__\n",
    "- the Mean using __sum()/len()__ --> assign __Mean__\n",
    "- __how many times__ we selected Prince Charming --> use the __count() method on results__ and pass __size_applicants__(=100) as an argument. --> assign __Count__\n",
    "- the __probability__ of getting Prince Charming --> calculate __Count divided by sims__ and assign the variable __prob_best__.\n",
    "- __Fill the gaps!__\n"
   ]
  },
  {
   "cell_type": "code",
   "execution_count": 69,
   "metadata": {},
   "outputs": [
    {
     "data": {
      "text/plain": [
       "0"
      ]
     },
     "execution_count": 69,
     "metadata": {},
     "output_type": "execute_result"
    }
   ],
   "source": [
    "Min = min(results)\n",
    "Min"
   ]
  },
  {
   "cell_type": "code",
   "execution_count": 70,
   "metadata": {},
   "outputs": [
    {
     "data": {
      "text/plain": [
       "100"
      ]
     },
     "execution_count": 70,
     "metadata": {},
     "output_type": "execute_result"
    }
   ],
   "source": [
    "Max = max(results)\n",
    "Max"
   ]
  },
  {
   "cell_type": "code",
   "execution_count": 71,
   "metadata": {},
   "outputs": [
    {
     "data": {
      "text/plain": [
       "51.853"
      ]
     },
     "execution_count": 71,
     "metadata": {},
     "output_type": "execute_result"
    }
   ],
   "source": [
    "Mean = sum(results)/len(results)\n",
    "Mean"
   ]
  },
  {
   "cell_type": "code",
   "execution_count": 76,
   "metadata": {},
   "outputs": [
    {
     "data": {
      "text/plain": [
       "371"
      ]
     },
     "execution_count": 76,
     "metadata": {},
     "output_type": "execute_result"
    }
   ],
   "source": [
    "Count = results.count(100)\n",
    "Count"
   ]
  },
  {
   "cell_type": "code",
   "execution_count": 77,
   "metadata": {},
   "outputs": [
    {
     "data": {
      "text/plain": [
       "0.371"
      ]
     },
     "execution_count": 77,
     "metadata": {},
     "output_type": "execute_result"
    }
   ],
   "source": [
    "prob_best = Count/sims\n",
    "prob_best"
   ]
  },
  {
   "cell_type": "markdown",
   "metadata": {},
   "source": [
    "The __probability of selecting Prince Charming__ is round about __37 percent__. The __average__ selected prince has a __quality of approx. 52__. But what could be more intuitive than __visualizing__ our  results to have a better understanding of the __frequency distribution__ of results???\n",
    "<br><br>Let´s first \n",
    "- __import matplotlib.pyplot as plt__. \n",
    "- we require __%matplotlib inline__\n",
    "- and we set style to __\"seaborn\"__ (__plt.style.use()__)"
   ]
  },
  {
   "cell_type": "code",
   "execution_count": 78,
   "metadata": {},
   "outputs": [],
   "source": [
    "#nothing to do, just run the cell!\n",
    "\n",
    "import matplotlib.pyplot as plt\n",
    "%matplotlib inline\n",
    "plt.style.use(\"seaborn\")"
   ]
  },
  {
   "cell_type": "markdown",
   "metadata": {},
   "source": [
    "Ok, we should visualize our results with a __Histogram__, using __plt.hist()__.<br><br>Therefore we set\n",
    "the parameter __bins__ equal to __(Max-Min+1)__ and add\n",
    "- plt.figure(figsize = (12,6)) to increase the size of our figure\n",
    "- x-axis label (__plt.xlabel()__) with __\"Quality of selected prince (100 is best)\"__\n",
    "- y-axis label (__plt.ylabel()__) with __\"Frequency\"__\n",
    "- title (__plt.title()__) with __\"Prince Selection Frequency Distribution (Applicants = 100, Testgroup = 50, sims = 1000)\"__. Set __fontsize__ of title to __15__.\n",
    "- __Fill the gaps__!\n"
   ]
  },
  {
   "cell_type": "code",
   "execution_count": 79,
   "metadata": {},
   "outputs": [
    {
     "data": {
      "image/png": "[encoded data removed]",
      "text/plain": [
       "<Figure size 864x432 with 1 Axes>"
      ]
     },
     "metadata": {
      "needs_background": "light"
     },
     "output_type": "display_data"
    }
   ],
   "source": [
    "plt.figure(figsize = (12,6))\n",
    "plt.hist(results, bins = (Max-Min+1))\n",
    "plt.xlabel(\"Quality of selected Prince (100 is best)\")\n",
    "plt.ylabel(\"Frequency\")\n",
    "plt.title(\"Prince Selection Frequency Distribution (Applicants = 100, Testgroup = 50, sims = 1000)\", fontsize = 15)\n",
    "plt.show()"
   ]
  },
  {
   "cell_type": "markdown",
   "metadata": {},
   "source": [
    "Alright, this looks like the opposite of a bell shaped curve, where the most frequent events are in the middle!!! Here we have the highest frequencies at the left and right boundaries."
   ]
  },
  {
   "cell_type": "markdown",
   "metadata": {},
   "source": [
    "## 4. Automation by writing a Function"
   ]
  },
  {
   "cell_type": "markdown",
   "metadata": {},
   "source": [
    "We can be proud of our project so far, but what if we want to change \n",
    "- the __size_applicants__ (number of applicants),\n",
    "- the __size_testgroup__ (size of testgroup) or\n",
    "- the number of simulations (__sims__) we want to perform\n",
    "\n",
    "in order to perform __more complex analysis__ and __optimizations__ to solve more advanced problems?\n",
    "\n",
    "We should __automate__ our project by __writing a function__!"
   ]
  },
  {
   "cell_type": "markdown",
   "metadata": {},
   "source": [
    "Let´s define (__def__) a function called __Princess()__ with the following __parameters__ and __default values__ inside the parentheses:\n",
    "- __size_applicants__ = 100\n",
    "- __size_testgroup__ = 50\n",
    "- __sims__ = 1000\n",
    "- __seed__ = 114\n",
    "\n",
    "This is called the __Function Header__.\n",
    "\n",
    "Add a return statement: __return__ the string __\"This is the result of Princess()\"__ in order to have a working function in the first place."
   ]
  },
  {
   "cell_type": "code",
   "execution_count": 81,
   "metadata": {},
   "outputs": [],
   "source": [
    "def Princess(size_applicants=100,size_testgroup=50,sims=1000,seed=114):\n",
    "    print(\"This is the result of Princess()\")"
   ]
  },
  {
   "cell_type": "markdown",
   "metadata": {},
   "source": [
    "__Call__ the function with __default parameters__ (simply __Princess()__) to check, if everything is working so far."
   ]
  },
  {
   "cell_type": "code",
   "execution_count": 82,
   "metadata": {},
   "outputs": [
    {
     "name": "stdout",
     "output_type": "stream",
     "text": [
      "This is the result of Princess()\n"
     ]
    }
   ],
   "source": [
    "Princess()"
   ]
  },
  {
   "cell_type": "markdown",
   "metadata": {},
   "source": [
    "Perfect. So far we only have a Function Header and a more or less senseless return statement.<br><br> Now we need to add the __Function Body__. Therefore, __copy__ our __running code__ from a few cells above and __paste__ it as function body.<br> We need to make a few __adjustments__ to the Function Body:\n",
    "- insert __parameter names__ where required\n",
    "- the function shall __return__ the __probability of getting Prince Charming__, hence we need to __define and calculate__ __prob_best__.\n",
    "\n",
    "Finally, we want to __return__ the __prob_best__ as the function´s result.\n",
    "\n",
    "__Complete__ the cell below and __fill the gaps__!"
   ]
  },
  {
   "cell_type": "code",
   "execution_count": 107,
   "metadata": {},
   "outputs": [],
   "source": [
    "def Princess(size_applicants = 100, size_testgroup = 50, sims = 1000, seed = 114):\n",
    "    \n",
    "    results =[]\n",
    "    random.seed(seed)\n",
    "    for simulation in range(sims):\n",
    "\n",
    "        applicants_sorted = list(range(1, size_applicants+1))\n",
    "        applicants_unsorted = random.sample(applicants_sorted, size_applicants)\n",
    "        testgroup = applicants_unsorted[:size_testgroup]\n",
    "        testgroup_best = max(testgroup)\n",
    "        selectgroup = applicants_unsorted[size_testgroup:]\n",
    "\n",
    "        selection = 0\n",
    "        for i in selectgroup:\n",
    "            if i > testgroup_best:\n",
    "                selection = i \n",
    "                break\n",
    "            else:\n",
    "                pass\n",
    "            \n",
    "        results.append(selection)  \n",
    "    prob_best = results.count(size_applicants)/sims\n",
    "  \n",
    "    return prob_best"
   ]
  },
  {
   "cell_type": "markdown",
   "metadata": {},
   "source": [
    "Alright, let´s check if everything is __correct__ and if we get the __same__ prob_best as before (__0.371__). Call __Princess()__ with default parameters. "
   ]
  },
  {
   "cell_type": "code",
   "execution_count": 108,
   "metadata": {},
   "outputs": [
    {
     "data": {
      "text/plain": [
       "0.371"
      ]
     },
     "execution_count": 108,
     "metadata": {},
     "output_type": "execute_result"
    }
   ],
   "source": [
    "Princess()"
   ]
  },
  {
   "cell_type": "markdown",
   "metadata": {},
   "source": [
    "Perfect, it works!<br><br> Now let´s __variate__ our parameters. <br><br>\n",
    "Our picky Princess wants to __maximize the probability__ of selecting __Prince Charming__. This __probability depends__ on the __size of the testgroup__ and will change when we variate the size of the testgroup. As an extreme case, assume that the __size of the testgroup is 99__. Hence, only __one prince will be in the selectgroup__ and the probability, that the very last prince of all princes is Prince Charming is __1%__ (=1/100, if our total number of applicants is 100). <br><br>\n",
    "Alright, let´s __try and run our Princess() function__ with some other testgroup sizes, e.g. __10__ and __90__ and let´s __inspect the results__."
   ]
  },
  {
   "cell_type": "code",
   "execution_count": 85,
   "metadata": {},
   "outputs": [
    {
     "data": {
      "text/plain": [
       "0.231"
      ]
     },
     "execution_count": 85,
     "metadata": {},
     "output_type": "execute_result"
    }
   ],
   "source": [
    "Princess(size_testgroup = 10)"
   ]
  },
  {
   "cell_type": "code",
   "execution_count": 86,
   "metadata": {},
   "outputs": [
    {
     "data": {
      "text/plain": [
       "0.097"
      ]
     },
     "execution_count": 86,
     "metadata": {},
     "output_type": "execute_result"
    }
   ],
   "source": [
    "Princess(size_testgroup = 90)"
   ]
  },
  {
   "cell_type": "markdown",
   "metadata": {},
   "source": [
    "OK, __both results__ are __lower than with our default case__ of size_testgroup = 50. So there might be a __Maximum__ somewhere __between 10 and 90__...  "
   ]
  },
  {
   "cell_type": "markdown",
   "metadata": {},
   "source": [
    "Let´s simply check __all values between 1 and 100__ for the parameter __size_testgroup__.<br><br>\n",
    "Therefore, we create a __for loop__ where we loop over a __range() object from 1 until 100__ (both ends inclusive). And for each element (__size__) in our loop, we __print the element (size)__ and the __result of our function Princess()__, where we pass the argument __size__ for the parameter __size_testgroup__.<br><br>\n",
    "\n",
    "__Fill the gaps__!"
   ]
  },
  {
   "cell_type": "code",
   "execution_count": 87,
   "metadata": {
    "scrolled": true
   },
   "outputs": [
    {
     "name": "stdout",
     "output_type": "stream",
     "text": [
      "1 0.048\n",
      "2 0.07\n",
      "3 0.102\n",
      "4 0.123\n",
      "5 0.15\n",
      "6 0.169\n",
      "7 0.19\n",
      "8 0.211\n",
      "9 0.218\n",
      "10 0.231\n",
      "11 0.249\n",
      "12 0.258\n",
      "13 0.272\n",
      "14 0.274\n",
      "15 0.279\n",
      "16 0.295\n",
      "17 0.306\n",
      "18 0.306\n",
      "19 0.317\n",
      "20 0.322\n",
      "21 0.339\n",
      "22 0.344\n",
      "23 0.348\n",
      "24 0.354\n",
      "25 0.362\n",
      "26 0.364\n",
      "27 0.364\n",
      "28 0.369\n",
      "29 0.37\n",
      "30 0.377\n",
      "31 0.379\n",
      "32 0.378\n",
      "33 0.386\n",
      "34 0.396\n",
      "35 0.4\n",
      "36 0.397\n",
      "37 0.401\n",
      "38 0.405\n",
      "39 0.408\n",
      "40 0.4\n",
      "41 0.395\n",
      "42 0.388\n",
      "43 0.384\n",
      "44 0.376\n",
      "45 0.38\n",
      "46 0.381\n",
      "47 0.378\n",
      "48 0.376\n",
      "49 0.372\n",
      "50 0.371\n",
      "51 0.372\n",
      "52 0.372\n",
      "53 0.36\n",
      "54 0.357\n",
      "55 0.354\n",
      "56 0.346\n",
      "57 0.348\n",
      "58 0.337\n",
      "59 0.339\n",
      "60 0.329\n",
      "61 0.325\n",
      "62 0.321\n",
      "63 0.304\n",
      "64 0.298\n",
      "65 0.294\n",
      "66 0.287\n",
      "67 0.277\n",
      "68 0.267\n",
      "69 0.259\n",
      "70 0.248\n",
      "71 0.239\n",
      "72 0.235\n",
      "73 0.233\n",
      "74 0.222\n",
      "75 0.221\n",
      "76 0.209\n",
      "77 0.2\n",
      "78 0.194\n",
      "79 0.185\n",
      "80 0.177\n",
      "81 0.172\n",
      "82 0.167\n",
      "83 0.161\n",
      "84 0.155\n",
      "85 0.143\n",
      "86 0.134\n",
      "87 0.122\n",
      "88 0.111\n",
      "89 0.102\n",
      "90 0.097\n",
      "91 0.088\n",
      "92 0.074\n",
      "93 0.064\n",
      "94 0.058\n",
      "95 0.045\n",
      "96 0.033\n",
      "97 0.025\n",
      "98 0.015\n",
      "99 0.008\n"
     ]
    }
   ],
   "source": [
    "for size in range(1,100):\n",
    "    print(size, Princess(size_testgroup= size))"
   ]
  },
  {
   "cell_type": "markdown",
   "metadata": {},
   "source": [
    "Alright, the __probability is increasing__ until a testgroup size of approx. __38 or 39__ and then the __probability decreases__ again.  "
   ]
  },
  {
   "cell_type": "markdown",
   "metadata": {},
   "source": [
    "Let´s try to __visualize__ this with a line plot with the __size of the testgroup on the x-axis__ and the __probability of selecting Prince Charming on the y-axis__.<br><br>\n",
    "Therefore:\n",
    "- we create an __empty list__ called __results_1000sims__ where we __store all 100 results__ of our iteration.\n",
    "- we perform the __same iteration as in the cell above__, but instead of printing the results, we __append each result/each call of our Princess() function to the list results_1000sims__.\n",
    "- __Fill the gaps__!"
   ]
  },
  {
   "cell_type": "code",
   "execution_count": 94,
   "metadata": {},
   "outputs": [],
   "source": [
    "results_1000sims = []\n",
    "for size in range(1,100+1):\n",
    "    results_1000sims.append(Princess(size_testgroup= size))"
   ]
  },
  {
   "cell_type": "markdown",
   "metadata": {},
   "source": [
    "__Check__ the number of elements in our list __results_1000sims__ with __len()__. Should be __100__, right?"
   ]
  },
  {
   "cell_type": "code",
   "execution_count": 96,
   "metadata": {},
   "outputs": [
    {
     "data": {
      "text/plain": [
       "100"
      ]
     },
     "execution_count": 96,
     "metadata": {},
     "output_type": "execute_result"
    }
   ],
   "source": [
    "len(results_1000sims)"
   ]
  },
  {
   "cell_type": "markdown",
   "metadata": {},
   "source": [
    "Now we can __visualize__ our results. __Fill the gap__!"
   ]
  },
  {
   "cell_type": "code",
   "execution_count": 97,
   "metadata": {},
   "outputs": [
    {
     "data": {
      "image/png": "[encoded data removed]",
      "text/plain": [
       "<Figure size 864x432 with 1 Axes>"
      ]
     },
     "metadata": {},
     "output_type": "display_data"
    }
   ],
   "source": [
    "import matplotlib.pyplot as plt\n",
    "%matplotlib inline\n",
    "plt.style.use(\"seaborn\")\n",
    "\n",
    "\n",
    "plt.figure (figsize = (12,6))\n",
    "plt.plot(range(1,101), results_1000sims)\n",
    "plt.xlabel(\"Size of Testgroup\")\n",
    "plt.ylabel(\"Probability of selecting Prince Charming (quality = 100)\")\n",
    "plt.title(\"Prince Selection (Applicants = 100, sims = 1000)\", fontsize = 15)\n",
    "plt.show()"
   ]
  },
  {
   "cell_type": "markdown",
   "metadata": {},
   "source": [
    "There is indeed a __Maximum__ somewhere in the __interval 35 to 40__. However, we can also see here the __impact of randomness__. We still have a lot of __random noise__ in our graph which makes it __hard to really identify the Maximum__.<br><br>\n",
    "We should __further increase the amount of simulations to 10,000__. In statistics, 10,000 is a commonly used number of simulations to reduce random noise significantly."
   ]
  },
  {
   "cell_type": "markdown",
   "metadata": {},
   "source": [
    "__Fill the gaps__ and __recalculate/visualize with 10,000 simulations__.<br><br>\n",
    "__Attention__: Your machine could have a tough time, you can __stop operations__ by clicking on __Kernel (Toolbar) and then Interrupt__.  "
   ]
  },
  {
   "cell_type": "code",
   "execution_count": 103,
   "metadata": {},
   "outputs": [],
   "source": [
    "results_10000sims = []\n",
    "for size in range(1,101):\n",
    "    results_10000sims.append(Princess(sims = 10000, size_testgroup=size))"
   ]
  },
  {
   "cell_type": "code",
   "execution_count": 104,
   "metadata": {},
   "outputs": [
    {
     "data": {
      "image/png": "[encoded data removed]",
      "text/plain": [
       "<Figure size 864x432 with 1 Axes>"
      ]
     },
     "metadata": {},
     "output_type": "display_data"
    }
   ],
   "source": [
    "plt.figure (figsize = (12,6))\n",
    "plt.plot(range(1,101), results_10000sims)\n",
    "plt.xlabel(\"Size of Testgroup\")\n",
    "plt.ylabel(\"Probability of selecting Prince Charming (Quality = 100)\")\n",
    "plt.title(\"Prince Selection (Applicants = 100, sims = 10000)\", fontsize = 15)\n",
    "plt.show()"
   ]
  },
  {
   "cell_type": "markdown",
   "metadata": {},
   "source": [
    "Now the graph looks __much smoother__! So, to be more precise in our simulation we need to have __at least 10,000 simulations__! "
   ]
  },
  {
   "cell_type": "markdown",
   "metadata": {},
   "source": [
    "Apparently, we will get the __maximum probability__ with a testgroup size __between 35 and 40__. So, the __optimal testgroup size__ should be __between 35% and 40%__ of the total number of applicants.<br><br>\n",
    "However, we make quite __large steps__ by moving from 35 to 36 and then to 37 and so on. In order to get a __more precise result__, we should __increase the number of steps__. Therefore let´s __scale our analysis by 10__ and let´s assume we have __1000 applicants__ and the __optimal size of the testgroup__ should be in the __range 350 to 400__.<br><br>\n",
    "\n",
    "__Fill the gaps__ and __analyze__ the result! "
   ]
  },
  {
   "cell_type": "code",
   "execution_count": 110,
   "metadata": {
    "scrolled": true
   },
   "outputs": [
    {
     "name": "stdout",
     "output_type": "stream",
     "text": [
      "350 0.3599\n",
      "351 0.3602\n",
      "352 0.3608\n",
      "353 0.3609\n",
      "354 0.3615\n",
      "355 0.3612\n",
      "356 0.3617\n",
      "357 0.3618\n",
      "358 0.3615\n",
      "359 0.3621\n",
      "360 0.3618\n",
      "361 0.3618\n",
      "362 0.3618\n",
      "363 0.3621\n",
      "364 0.3619\n",
      "365 0.362\n",
      "366 0.3614\n",
      "367 0.3611\n",
      "368 0.3612\n",
      "369 0.3611\n",
      "370 0.3612\n",
      "371 0.3616\n",
      "372 0.361\n",
      "373 0.3606\n",
      "374 0.3608\n",
      "375 0.361\n",
      "376 0.3611\n",
      "377 0.3609\n",
      "378 0.3608\n",
      "379 0.3609\n",
      "380 0.361\n",
      "381 0.3608\n",
      "382 0.3599\n",
      "383 0.3598\n",
      "384 0.3593\n",
      "385 0.3594\n",
      "386 0.3593\n",
      "387 0.3586\n",
      "388 0.3572\n",
      "389 0.3579\n",
      "390 0.3579\n",
      "391 0.358\n",
      "392 0.3577\n",
      "393 0.358\n",
      "394 0.3577\n",
      "395 0.3575\n",
      "396 0.3572\n",
      "397 0.3566\n",
      "398 0.3567\n",
      "399 0.3564\n"
     ]
    }
   ],
   "source": [
    "for size in range(350, 400):\n",
    "    print(size, Princess(sims = 10000, size_testgroup = size, size_applicants = 1000))"
   ]
  },
  {
   "cell_type": "markdown",
   "metadata": {},
   "source": [
    "Here in our simulation, we achieve the __maximum probability__ with a __testgroup size of 363 princes__. The mathematically __optimal testgroup size__ should be somewhere __between 35.5% and 37.5%__ of the total number of applicants. "
   ]
  },
  {
   "cell_type": "markdown",
   "metadata": {},
   "source": [
    "Apparently __basic Python__ has now __reached its limits__ with regard to __speed and performance__. But before we move to __the NumPy package__ to increase performance, we still want to __answer some more advanced questions__ and variate our strategies. __100 applicants__ and __1000 simulations__ should do the job as well for our purposes."
   ]
  },
  {
   "cell_type": "markdown",
   "metadata": {},
   "source": [
    "But before let´s __measure the speed__ of our Princess() function with __%timeit__ and compare it later with NumPy performance. After the statement __%timeit__, call our function Princess() with __default__ values for all parameters."
   ]
  },
  {
   "cell_type": "code",
   "execution_count": 111,
   "metadata": {},
   "outputs": [
    {
     "name": "stdout",
     "output_type": "stream",
     "text": [
      "112 ms ± 13.1 ms per loop (mean ± std. dev. of 7 runs, 10 loops each)\n"
     ]
    }
   ],
   "source": [
    "%timeit Princess()"
   ]
  },
  {
   "cell_type": "markdown",
   "metadata": {},
   "source": [
    "## 5. Changing Strategies"
   ]
  },
  {
   "cell_type": "markdown",
   "metadata": {},
   "source": [
    "### 5.1 Changing target metrics"
   ]
  },
  {
   "cell_type": "markdown",
   "metadata": {},
   "source": [
    "So far, we had a __very picky Princess__, that wanted to __maximize the probability__ of getting the __prince with quality 100__ (Prince Charming). We learned, that this __comes at a cost__. The __probability of selecting no prince__ at all is also __high__.<br> Whenever __Prince Charming is already in the testgroup__, __no prince will be selected__ later on, because there is no prince in the selectgroup, that is of higher quality. <br><br>\n",
    "Let´s __visualize__ this finding and make __two plots__ in our graph. The __first plot__ shows the relationship between the __size of the testgroup__ and the __probability of getting Prince Charming__ and the __second graph__ shows the relationship between the __size of the testgroup__ and the __probability of getting no prince__ at all. We do __not have to simulate__ the second graph. With a __testgroup size of 1__, the __probability__ of having Prince Charming in the testgroup is ...__1/100__, with the __testgroup size of 23__, the probability is ... __23/100__ and so on... <br><br>\n",
    "__Run the next three cells__ and have a look at the graphs! "
   ]
  },
  {
   "cell_type": "code",
   "execution_count": 112,
   "metadata": {},
   "outputs": [],
   "source": [
    "results_1000sims = []\n",
    "for size in range(1,101):\n",
    "    results_1000sims.append(Princess(sims = 1000, size_testgroup=size))"
   ]
  },
  {
   "cell_type": "code",
   "execution_count": 113,
   "metadata": {},
   "outputs": [],
   "source": [
    "import matplotlib.pyplot as plt\n",
    "%matplotlib inline\n",
    "plt.style.use(\"seaborn\")"
   ]
  },
  {
   "cell_type": "code",
   "execution_count": 114,
   "metadata": {},
   "outputs": [
    {
     "data": {
      "image/png": "[encoded data removed]",
      "text/plain": [
       "<Figure size 864x432 with 1 Axes>"
      ]
     },
     "metadata": {},
     "output_type": "display_data"
    }
   ],
   "source": [
    "plt.figure (figsize = (12,6))\n",
    "plt.plot(range(1,101), results_1000sims, label = \"Probability of getting Prince Charming\")\n",
    "plt.plot([1,100], [0.01, 1], label = \"Probability of getting no Prince at all\")\n",
    "plt.xlabel(\"Size of Testgroup\")\n",
    "plt.ylabel(\"Probability\")\n",
    "plt.title(\"Prince Selection (Applicants = 100, sims = 1000)\", fontsize = 15)\n",
    "plt.legend(fontsize = 15 )\n",
    "plt.show()"
   ]
  },
  {
   "cell_type": "markdown",
   "metadata": {},
   "source": [
    "Now let´s assume, we advise __another Princess__ in another kingdom. And this time, the Princess is __more risk averse__.<br>\n",
    "Instead of __maximizing the probability__ of selecting Prince Charming, this Princess wants to __maximize the expected quality__ of the selected prince - the __average quality__ over all simulations. "
   ]
  },
  {
   "cell_type": "markdown",
   "metadata": {},
   "source": [
    "Therefore, in a first step, we should __change our Princess() function__ and allow for __more metrics as a return__ of our function. So far we only had the best_proba metric.<br><br>\n",
    "\n",
    "Introduce the new Parameter __metric__, where the arguments __\"results\"__, __\"prob_best\"__ and __\"average\"__ can be passed.\n",
    "- __\"results\"__ return the __list results__ with all __outcomes (all simulations__). Set __\"results\"__ as __default argument__. \n",
    "- __\"prob_best\"__ returns the __probability of selecting Prince Charming__\n",
    "- __\"average\"__ returns the __average outcome__ of all simulations\n",
    "\n",
    "We introduce an __if, elif, elif statement__ within the function body to __check which argument was passed__ to the parameter metric.\n",
    "\n",
    "__Fill the gaps__!"
   ]
  },
  {
   "cell_type": "code",
   "execution_count": 116,
   "metadata": {},
   "outputs": [],
   "source": [
    "def Princess(size_applicants = 100, size_testgroup = 50, sims = 1000, seed = 114, metric = \"results\"):\n",
    "    \n",
    "    results =[]\n",
    "    random.seed(seed)\n",
    "    for _ in range(sims):\n",
    "\n",
    "        applicants_sorted = list(range(1, size_applicants+1))\n",
    "        applicants_unsorted = random.sample(applicants_sorted, size_applicants)\n",
    "        testgroup = applicants_unsorted[:size_testgroup]\n",
    "        testgroup_best = max(testgroup)\n",
    "        selectgroup = applicants_unsorted[size_testgroup:]\n",
    "\n",
    "        selection = 0\n",
    "        for i in selectgroup:\n",
    "            if i > testgroup_best:\n",
    "                selection = i \n",
    "                break\n",
    "            else:\n",
    "                pass\n",
    "            \n",
    "        results.append(selection)  \n",
    "    prob_best = results.count(size_applicants)/sims\n",
    "    average = sum(results)/sims\n",
    "    \n",
    "    if metric == \"results\":\n",
    "        return results\n",
    "    elif metric == \"prob_best\":\n",
    "        return prob_best\n",
    "    elif metric == \"average\":\n",
    "        return average"
   ]
  },
  {
   "cell_type": "markdown",
   "metadata": {},
   "source": [
    "Now let´s __check if our function works__ as intended. __Call Princess() three times__ with __size_testgroup = 37__ and variate the __parameter metrics__ (\"prob_best\", \"average\" and \"results\"). __Fill the gaps__!"
   ]
  },
  {
   "cell_type": "code",
   "execution_count": 117,
   "metadata": {},
   "outputs": [
    {
     "data": {
      "text/plain": [
       "0.401"
      ]
     },
     "execution_count": 117,
     "metadata": {},
     "output_type": "execute_result"
    }
   ],
   "source": [
    "Princess(size_testgroup= 37, metric= \"prob_best\")"
   ]
  },
  {
   "cell_type": "code",
   "execution_count": 118,
   "metadata": {},
   "outputs": [
    {
     "data": {
      "text/plain": [
       "64.998"
      ]
     },
     "execution_count": 118,
     "metadata": {},
     "output_type": "execute_result"
    }
   ],
   "source": [
    "Princess(size_testgroup= 37, metric = \"average\")"
   ]
  },
  {
   "cell_type": "code",
   "execution_count": 119,
   "metadata": {},
   "outputs": [
    {
     "data": {
      "text/plain": [
       "[100,\n",
       " 0,\n",
       " 100,\n",
       " 96,\n",
       " 99,\n",
       " 98,\n",
       " 97,\n",
       " 94,\n",
       " 100,\n",
       " 99,\n",
       " 0,\n",
       " 100,\n",
       " 98,\n",
       " 100,\n",
       " 100,\n",
       " 100,\n",
       " 100,\n",
       " 98,\n",
       " 100,\n",
       " 0,\n",
       " 0,\n",
       " 0,\n",
       " 98,\n",
       " 0,\n",
       " 0,\n",
       " 0,\n",
       " 100,\n",
       " 100,\n",
       " 0,\n",
       " 100,\n",
       " 99,\n",
       " 100,\n",
       " 99,\n",
       " 94,\n",
       " 100,\n",
       " 99,\n",
       " 100,\n",
       " 0,\n",
       " 100,\n",
       " 98,\n",
       " 99,\n",
       " 0,\n",
       " 98,\n",
       " 100,\n",
       " 0,\n",
       " 0,\n",
       " 100,\n",
       " 0,\n",
       " 0,\n",
       " 100,\n",
       " 0,\n",
       " 98,\n",
       " 0,\n",
       " 100,\n",
       " 0,\n",
       " 94,\n",
       " 98,\n",
       " 100,\n",
       " 100,\n",
       " 0,\n",
       " 98,\n",
       " 100,\n",
       " 100,\n",
       " 100,\n",
       " 100,\n",
       " 97,\n",
       " 99,\n",
       " 100,\n",
       " 100,\n",
       " 99,\n",
       " 100,\n",
       " 0,\n",
       " 99,\n",
       " 0,\n",
       " 100,\n",
       " 100,\n",
       " 100,\n",
       " 100,\n",
       " 100,\n",
       " 100,\n",
       " 0,\n",
       " 0,\n",
       " 0,\n",
       " 100,\n",
       " 100,\n",
       " 0,\n",
       " 100,\n",
       " 0,\n",
       " 0,\n",
       " 100,\n",
       " 100,\n",
       " 98,\n",
       " 100,\n",
       " 0,\n",
       " 97,\n",
       " 100,\n",
       " 100,\n",
       " 0,\n",
       " 0,\n",
       " 0,\n",
       " 98,\n",
       " 100,\n",
       " 100,\n",
       " 98,\n",
       " 100,\n",
       " 97,\n",
       " 0,\n",
       " 0,\n",
       " 0,\n",
       " 0,\n",
       " 0,\n",
       " 0,\n",
       " 100,\n",
       " 100,\n",
       " 0,\n",
       " 100,\n",
       " 100,\n",
       " 0,\n",
       " 100,\n",
       " 0,\n",
       " 100,\n",
       " 0,\n",
       " 98,\n",
       " 0,\n",
       " 100,\n",
       " 0,\n",
       " 99,\n",
       " 100,\n",
       " 0,\n",
       " 95,\n",
       " 0,\n",
       " 99,\n",
       " 0,\n",
       " 97,\n",
       " 0,\n",
       " 100,\n",
       " 0,\n",
       " 100,\n",
       " 100,\n",
       " 100,\n",
       " 0,\n",
       " 0,\n",
       " 100,\n",
       " 100,\n",
       " 97,\n",
       " 99,\n",
       " 100,\n",
       " 98,\n",
       " 0,\n",
       " 0,\n",
       " 0,\n",
       " 100,\n",
       " 100,\n",
       " 0,\n",
       " 99,\n",
       " 100,\n",
       " 100,\n",
       " 0,\n",
       " 100,\n",
       " 0,\n",
       " 0,\n",
       " 99,\n",
       " 0,\n",
       " 100,\n",
       " 0,\n",
       " 0,\n",
       " 0,\n",
       " 0,\n",
       " 100,\n",
       " 100,\n",
       " 100,\n",
       " 0,\n",
       " 0,\n",
       " 0,\n",
       " 0,\n",
       " 99,\n",
       " 100,\n",
       " 0,\n",
       " 100,\n",
       " 100,\n",
       " 0,\n",
       " 100,\n",
       " 100,\n",
       " 0,\n",
       " 100,\n",
       " 98,\n",
       " 99,\n",
       " 100,\n",
       " 99,\n",
       " 96,\n",
       " 100,\n",
       " 100,\n",
       " 100,\n",
       " 100,\n",
       " 99,\n",
       " 100,\n",
       " 0,\n",
       " 100,\n",
       " 0,\n",
       " 100,\n",
       " 100,\n",
       " 0,\n",
       " 0,\n",
       " 97,\n",
       " 0,\n",
       " 100,\n",
       " 0,\n",
       " 98,\n",
       " 100,\n",
       " 96,\n",
       " 0,\n",
       " 100,\n",
       " 100,\n",
       " 0,\n",
       " 0,\n",
       " 0,\n",
       " 100,\n",
       " 97,\n",
       " 99,\n",
       " 0,\n",
       " 100,\n",
       " 0,\n",
       " 0,\n",
       " 100,\n",
       " 0,\n",
       " 0,\n",
       " 99,\n",
       " 100,\n",
       " 100,\n",
       " 0,\n",
       " 0,\n",
       " 0,\n",
       " 100,\n",
       " 0,\n",
       " 0,\n",
       " 0,\n",
       " 0,\n",
       " 0,\n",
       " 100,\n",
       " 99,\n",
       " 100,\n",
       " 100,\n",
       " 0,\n",
       " 99,\n",
       " 100,\n",
       " 0,\n",
       " 99,\n",
       " 0,\n",
       " 0,\n",
       " 100,\n",
       " 98,\n",
       " 0,\n",
       " 100,\n",
       " 100,\n",
       " 100,\n",
       " 0,\n",
       " 0,\n",
       " 99,\n",
       " 0,\n",
       " 98,\n",
       " 100,\n",
       " 0,\n",
       " 0,\n",
       " 0,\n",
       " 0,\n",
       " 100,\n",
       " 100,\n",
       " 100,\n",
       " 100,\n",
       " 99,\n",
       " 100,\n",
       " 100,\n",
       " 99,\n",
       " 0,\n",
       " 99,\n",
       " 0,\n",
       " 99,\n",
       " 100,\n",
       " 97,\n",
       " 100,\n",
       " 100,\n",
       " 100,\n",
       " 100,\n",
       " 99,\n",
       " 0,\n",
       " 100,\n",
       " 97,\n",
       " 99,\n",
       " 100,\n",
       " 0,\n",
       " 0,\n",
       " 98,\n",
       " 0,\n",
       " 100,\n",
       " 98,\n",
       " 100,\n",
       " 100,\n",
       " 100,\n",
       " 0,\n",
       " 100,\n",
       " 100,\n",
       " 0,\n",
       " 0,\n",
       " 100,\n",
       " 0,\n",
       " 100,\n",
       " 0,\n",
       " 100,\n",
       " 100,\n",
       " 0,\n",
       " 100,\n",
       " 100,\n",
       " 100,\n",
       " 97,\n",
       " 100,\n",
       " 99,\n",
       " 92,\n",
       " 99,\n",
       " 92,\n",
       " 99,\n",
       " 100,\n",
       " 100,\n",
       " 100,\n",
       " 99,\n",
       " 100,\n",
       " 100,\n",
       " 100,\n",
       " 100,\n",
       " 0,\n",
       " 0,\n",
       " 96,\n",
       " 0,\n",
       " 0,\n",
       " 100,\n",
       " 99,\n",
       " 98,\n",
       " 0,\n",
       " 100,\n",
       " 0,\n",
       " 0,\n",
       " 0,\n",
       " 100,\n",
       " 0,\n",
       " 98,\n",
       " 0,\n",
       " 99,\n",
       " 97,\n",
       " 100,\n",
       " 0,\n",
       " 100,\n",
       " 0,\n",
       " 95,\n",
       " 100,\n",
       " 0,\n",
       " 100,\n",
       " 100,\n",
       " 100,\n",
       " 100,\n",
       " 0,\n",
       " 0,\n",
       " 100,\n",
       " 99,\n",
       " 0,\n",
       " 100,\n",
       " 98,\n",
       " 100,\n",
       " 100,\n",
       " 100,\n",
       " 0,\n",
       " 0,\n",
       " 100,\n",
       " 0,\n",
       " 100,\n",
       " 100,\n",
       " 97,\n",
       " 100,\n",
       " 100,\n",
       " 98,\n",
       " 0,\n",
       " 100,\n",
       " 100,\n",
       " 0,\n",
       " 100,\n",
       " 0,\n",
       " 0,\n",
       " 96,\n",
       " 0,\n",
       " 98,\n",
       " 100,\n",
       " 100,\n",
       " 0,\n",
       " 100,\n",
       " 0,\n",
       " 100,\n",
       " 99,\n",
       " 0,\n",
       " 99,\n",
       " 0,\n",
       " 99,\n",
       " 94,\n",
       " 0,\n",
       " 0,\n",
       " 0,\n",
       " 99,\n",
       " 100,\n",
       " 99,\n",
       " 0,\n",
       " 100,\n",
       " 0,\n",
       " 97,\n",
       " 100,\n",
       " 99,\n",
       " 0,\n",
       " 0,\n",
       " 94,\n",
       " 99,\n",
       " 98,\n",
       " 100,\n",
       " 100,\n",
       " 100,\n",
       " 100,\n",
       " 100,\n",
       " 100,\n",
       " 98,\n",
       " 0,\n",
       " 98,\n",
       " 100,\n",
       " 97,\n",
       " 99,\n",
       " 99,\n",
       " 0,\n",
       " 100,\n",
       " 100,\n",
       " 0,\n",
       " 100,\n",
       " 100,\n",
       " 99,\n",
       " 0,\n",
       " 100,\n",
       " 98,\n",
       " 100,\n",
       " 100,\n",
       " 0,\n",
       " 100,\n",
       " 0,\n",
       " 0,\n",
       " 0,\n",
       " 100,\n",
       " 99,\n",
       " 95,\n",
       " 100,\n",
       " 0,\n",
       " 0,\n",
       " 0,\n",
       " 100,\n",
       " 99,\n",
       " 0,\n",
       " 0,\n",
       " 0,\n",
       " 100,\n",
       " 100,\n",
       " 100,\n",
       " 0,\n",
       " 98,\n",
       " 0,\n",
       " 100,\n",
       " 97,\n",
       " 100,\n",
       " 0,\n",
       " 100,\n",
       " 0,\n",
       " 100,\n",
       " 100,\n",
       " 99,\n",
       " 100,\n",
       " 0,\n",
       " 100,\n",
       " 0,\n",
       " 97,\n",
       " 0,\n",
       " 99,\n",
       " 0,\n",
       " 100,\n",
       " 95,\n",
       " 100,\n",
       " 0,\n",
       " 0,\n",
       " 100,\n",
       " 100,\n",
       " 99,\n",
       " 0,\n",
       " 100,\n",
       " 98,\n",
       " 0,\n",
       " 100,\n",
       " 100,\n",
       " 100,\n",
       " 96,\n",
       " 0,\n",
       " 100,\n",
       " 0,\n",
       " 98,\n",
       " 99,\n",
       " 0,\n",
       " 0,\n",
       " 99,\n",
       " 97,\n",
       " 98,\n",
       " 0,\n",
       " 100,\n",
       " 0,\n",
       " 100,\n",
       " 0,\n",
       " 0,\n",
       " 99,\n",
       " 98,\n",
       " 0,\n",
       " 100,\n",
       " 98,\n",
       " 100,\n",
       " 95,\n",
       " 100,\n",
       " 100,\n",
       " 100,\n",
       " 0,\n",
       " 100,\n",
       " 100,\n",
       " 100,\n",
       " 98,\n",
       " 0,\n",
       " 0,\n",
       " 100,\n",
       " 100,\n",
       " 96,\n",
       " 100,\n",
       " 99,\n",
       " 100,\n",
       " 100,\n",
       " 0,\n",
       " 0,\n",
       " 97,\n",
       " 99,\n",
       " 100,\n",
       " 100,\n",
       " 100,\n",
       " 100,\n",
       " 98,\n",
       " 95,\n",
       " 100,\n",
       " 100,\n",
       " 100,\n",
       " 99,\n",
       " 99,\n",
       " 100,\n",
       " 0,\n",
       " 100,\n",
       " 0,\n",
       " 0,\n",
       " 0,\n",
       " 100,\n",
       " 0,\n",
       " 100,\n",
       " 0,\n",
       " 98,\n",
       " 0,\n",
       " 99,\n",
       " 100,\n",
       " 98,\n",
       " 0,\n",
       " 100,\n",
       " 100,\n",
       " 0,\n",
       " 100,\n",
       " 100,\n",
       " 0,\n",
       " 0,\n",
       " 99,\n",
       " 100,\n",
       " 99,\n",
       " 100,\n",
       " 99,\n",
       " 99,\n",
       " 97,\n",
       " 0,\n",
       " 0,\n",
       " 0,\n",
       " 100,\n",
       " 0,\n",
       " 100,\n",
       " 100,\n",
       " 0,\n",
       " 0,\n",
       " 99,\n",
       " 100,\n",
       " 100,\n",
       " 100,\n",
       " 0,\n",
       " 0,\n",
       " 99,\n",
       " 100,\n",
       " 98,\n",
       " 0,\n",
       " 100,\n",
       " 100,\n",
       " 100,\n",
       " 100,\n",
       " 100,\n",
       " 100,\n",
       " 0,\n",
       " 0,\n",
       " 99,\n",
       " 0,\n",
       " 0,\n",
       " 100,\n",
       " 0,\n",
       " 0,\n",
       " 0,\n",
       " 0,\n",
       " 0,\n",
       " 0,\n",
       " 0,\n",
       " 0,\n",
       " 100,\n",
       " 100,\n",
       " 100,\n",
       " 100,\n",
       " 99,\n",
       " 100,\n",
       " 98,\n",
       " 0,\n",
       " 0,\n",
       " 100,\n",
       " 100,\n",
       " 99,\n",
       " 0,\n",
       " 0,\n",
       " 0,\n",
       " 0,\n",
       " 0,\n",
       " 99,\n",
       " 0,\n",
       " 100,\n",
       " 97,\n",
       " 0,\n",
       " 99,\n",
       " 0,\n",
       " 100,\n",
       " 0,\n",
       " 100,\n",
       " 99,\n",
       " 99,\n",
       " 99,\n",
       " 100,\n",
       " 100,\n",
       " 0,\n",
       " 100,\n",
       " 99,\n",
       " 94,\n",
       " 100,\n",
       " 100,\n",
       " 100,\n",
       " 100,\n",
       " 0,\n",
       " 94,\n",
       " 99,\n",
       " 100,\n",
       " 99,\n",
       " 100,\n",
       " 100,\n",
       " 0,\n",
       " 100,\n",
       " 0,\n",
       " 97,\n",
       " 99,\n",
       " 100,\n",
       " 97,\n",
       " 99,\n",
       " 97,\n",
       " 0,\n",
       " 100,\n",
       " 100,\n",
       " 96,\n",
       " 0,\n",
       " 98,\n",
       " 100,\n",
       " 100,\n",
       " 100,\n",
       " 100,\n",
       " 100,\n",
       " 0,\n",
       " 0,\n",
       " 0,\n",
       " 0,\n",
       " 100,\n",
       " 100,\n",
       " 98,\n",
       " 0,\n",
       " 100,\n",
       " 98,\n",
       " 0,\n",
       " 100,\n",
       " 100,\n",
       " 100,\n",
       " 100,\n",
       " 100,\n",
       " 0,\n",
       " 100,\n",
       " 100,\n",
       " 0,\n",
       " 98,\n",
       " 99,\n",
       " 100,\n",
       " 0,\n",
       " 98,\n",
       " 0,\n",
       " 100,\n",
       " 99,\n",
       " 99,\n",
       " 99,\n",
       " 0,\n",
       " 99,\n",
       " 0,\n",
       " 100,\n",
       " 0,\n",
       " 100,\n",
       " 100,\n",
       " 0,\n",
       " 100,\n",
       " 100,\n",
       " 0,\n",
       " 99,\n",
       " 0,\n",
       " 0,\n",
       " 99,\n",
       " 98,\n",
       " 100,\n",
       " 0,\n",
       " 0,\n",
       " 0,\n",
       " 100,\n",
       " 97,\n",
       " 0,\n",
       " 100,\n",
       " 99,\n",
       " 100,\n",
       " 98,\n",
       " 0,\n",
       " 0,\n",
       " 100,\n",
       " 100,\n",
       " 0,\n",
       " 95,\n",
       " 0,\n",
       " 100,\n",
       " 98,\n",
       " 100,\n",
       " 100,\n",
       " 100,\n",
       " 99,\n",
       " 100,\n",
       " 100,\n",
       " 100,\n",
       " 98,\n",
       " 100,\n",
       " 0,\n",
       " 100,\n",
       " 0,\n",
       " 100,\n",
       " 98,\n",
       " 100,\n",
       " 0,\n",
       " 100,\n",
       " 100,\n",
       " 100,\n",
       " 0,\n",
       " 100,\n",
       " 0,\n",
       " 0,\n",
       " 100,\n",
       " 99,\n",
       " 0,\n",
       " 0,\n",
       " 0,\n",
       " 97,\n",
       " 100,\n",
       " 100,\n",
       " 100,\n",
       " 99,\n",
       " 100,\n",
       " 99,\n",
       " 100,\n",
       " 0,\n",
       " 100,\n",
       " 98,\n",
       " 100,\n",
       " 100,\n",
       " 99,\n",
       " 0,\n",
       " 0,\n",
       " 100,\n",
       " 96,\n",
       " 0,\n",
       " 96,\n",
       " 99,\n",
       " 100,\n",
       " 99,\n",
       " 0,\n",
       " 0,\n",
       " 100,\n",
       " 0,\n",
       " 100,\n",
       " 0,\n",
       " 100,\n",
       " 100,\n",
       " 100,\n",
       " 0,\n",
       " 99,\n",
       " 0,\n",
       " 100,\n",
       " 100,\n",
       " 0,\n",
       " 0,\n",
       " 0,\n",
       " 99,\n",
       " 98,\n",
       " 99,\n",
       " 0,\n",
       " 0,\n",
       " 0,\n",
       " 100,\n",
       " 99,\n",
       " 0,\n",
       " 100,\n",
       " 97,\n",
       " 100,\n",
       " 99,\n",
       " 100,\n",
       " 100,\n",
       " 100,\n",
       " 99,\n",
       " 100,\n",
       " 99,\n",
       " 100,\n",
       " 98,\n",
       " 96,\n",
       " 99,\n",
       " 0,\n",
       " 0,\n",
       " 0,\n",
       " 100,\n",
       " 99,\n",
       " 100,\n",
       " 95,\n",
       " 98,\n",
       " 100,\n",
       " 0,\n",
       " 99,\n",
       " 99,\n",
       " 100,\n",
       " 100,\n",
       " 0,\n",
       " 0,\n",
       " 0,\n",
       " 98,\n",
       " 100,\n",
       " 0,\n",
       " 0,\n",
       " 100,\n",
       " 98,\n",
       " 100,\n",
       " 0,\n",
       " 100,\n",
       " 98,\n",
       " 100,\n",
       " 100,\n",
       " 100,\n",
       " 98,\n",
       " 0,\n",
       " 99,\n",
       " 100,\n",
       " 100,\n",
       " 0,\n",
       " 0,\n",
       " 98,\n",
       " 100,\n",
       " 0,\n",
       " 99,\n",
       " 0,\n",
       " 100,\n",
       " 96,\n",
       " 99,\n",
       " 0,\n",
       " 0,\n",
       " 0,\n",
       " 99,\n",
       " 0,\n",
       " 0,\n",
       " 99,\n",
       " 0,\n",
       " 98,\n",
       " 100,\n",
       " 100,\n",
       " 100,\n",
       " 100,\n",
       " 99,\n",
       " 0,\n",
       " 100,\n",
       " 98,\n",
       " 100,\n",
       " 98,\n",
       " 0,\n",
       " 0,\n",
       " 100,\n",
       " 0,\n",
       " 0,\n",
       " 100,\n",
       " 0,\n",
       " 100,\n",
       " 96,\n",
       " 98,\n",
       " 99,\n",
       " 100,\n",
       " 100,\n",
       " 0,\n",
       " 100,\n",
       " 97,\n",
       " 99,\n",
       " 0,\n",
       " 100,\n",
       " 99,\n",
       " 100,\n",
       " 0,\n",
       " 0,\n",
       " 99,\n",
       " 100,\n",
       " 0,\n",
       " 0,\n",
       " 0,\n",
       " 97,\n",
       " 0,\n",
       " 0,\n",
       " 0,\n",
       " 100,\n",
       " 100,\n",
       " 0,\n",
       " 0,\n",
       " 0,\n",
       " 0,\n",
       " 0,\n",
       " 99,\n",
       " 97,\n",
       " 100,\n",
       " 99,\n",
       " 100,\n",
       " 0,\n",
       " 100,\n",
       " 100,\n",
       " 100,\n",
       " 99,\n",
       " 0,\n",
       " 100,\n",
       " 0,\n",
       " 0,\n",
       " 100,\n",
       " 100,\n",
       " 99,\n",
       " 0,\n",
       " 97,\n",
       " 99,\n",
       " 99,\n",
       " 98,\n",
       " 99,\n",
       " 100,\n",
       " 100,\n",
       " 0,\n",
       " 0,\n",
       " 100,\n",
       " 99,\n",
       " 0,\n",
       " 99,\n",
       " 100,\n",
       " 100,\n",
       " 100,\n",
       " 100,\n",
       " 0,\n",
       " 100,\n",
       " 100,\n",
       " 99,\n",
       " 98,\n",
       " 99,\n",
       " 100,\n",
       " 0,\n",
       " 0,\n",
       " 0,\n",
       " 100,\n",
       " 100,\n",
       " 100,\n",
       " 100,\n",
       " 100,\n",
       " 99]"
      ]
     },
     "execution_count": 119,
     "metadata": {},
     "output_type": "execute_result"
    }
   ],
   "source": [
    "Princess(size_testgroup= 37, metric = \"results\")"
   ]
  },
  {
   "cell_type": "markdown",
   "metadata": {},
   "source": [
    "Great. You should get __40.1% probability of selecting Prince Charming__, __64.998 average quality__ and a __list with 1000 outcomes__ of 1000 simulations, starting with 100, 0, 100, 96, 99,..."
   ]
  },
  {
   "cell_type": "markdown",
   "metadata": {},
   "source": [
    "So, with our __\"picky Princess strategy\"__ the __average quality__ of our selected princes is __65__.<br>\n",
    "I guess, there is __room for improvement__ for our new, down to earth Princess.  "
   ]
  },
  {
   "cell_type": "markdown",
   "metadata": {},
   "source": [
    "First, let´s find out the __optimal size of the testgroup__, if we want to __maximize__ the metric __average__."
   ]
  },
  {
   "cell_type": "markdown",
   "metadata": {},
   "source": [
    "Therefore, we again __iterate over all possible testgroup sizes__, assuming we have __100 applicants__ in total, and return for each iteration the __metric average__ of our __Princess() function__. We __store the results in a list__ and __visualize__ the outcomes.\n",
    "\n",
    "__Fill the gaps__!"
   ]
  },
  {
   "cell_type": "code",
   "execution_count": 120,
   "metadata": {},
   "outputs": [],
   "source": [
    "average_1000sims = []\n",
    "for size in range(1,101):\n",
    "    average_1000sims.append(Princess(size_testgroup=size, sims = 1000, metric = \"average\"))"
   ]
  },
  {
   "cell_type": "code",
   "execution_count": 121,
   "metadata": {},
   "outputs": [],
   "source": [
    "import matplotlib.pyplot as plt\n",
    "%matplotlib inline\n",
    "plt.style.use(\"seaborn\")"
   ]
  },
  {
   "cell_type": "code",
   "execution_count": 122,
   "metadata": {},
   "outputs": [
    {
     "data": {
      "image/png": "[encoded data removed]",
      "text/plain": [
       "<Figure size 864x432 with 1 Axes>"
      ]
     },
     "metadata": {},
     "output_type": "display_data"
    }
   ],
   "source": [
    "plt.figure (figsize = (12,6))\n",
    "plt.plot(range(1,101), average_1000sims)\n",
    "plt.xlabel(\"Size of Testgroup\")\n",
    "plt.ylabel(\"Average Qualitiy of selected Princes\")\n",
    "plt.title(\"Prince Selection (Applicants = 100, sims = 1000)\", fontsize = 15)\n",
    "plt.show()"
   ]
  },
  {
   "cell_type": "markdown",
   "metadata": {},
   "source": [
    "Surprise, it seems that we should advice our new Princess to have a __testgroup size of approx. 5 princes__ to __maximize the expected quality__ of her future husband.  <br><br>\n",
    "By doing so, we can manage to __increase expected quality__ from approx. 65 (with size_testgroup = 37) to __above 80__!"
   ]
  },
  {
   "cell_type": "markdown",
   "metadata": {},
   "source": [
    "Let´s also make a __histogram of results__ by calling __Princess()__ with __size_testgroup = 5__. <br><br>\n",
    "\n",
    "__Fill the gaps__!"
   ]
  },
  {
   "cell_type": "code",
   "execution_count": 123,
   "metadata": {},
   "outputs": [],
   "source": [
    "results = Princess(size_testgroup = 5, metric = \"results\")"
   ]
  },
  {
   "cell_type": "code",
   "execution_count": 124,
   "metadata": {},
   "outputs": [
    {
     "data": {
      "image/png": "[encoded data removed]",
      "text/plain": [
       "<Figure size 864x432 with 1 Axes>"
      ]
     },
     "metadata": {},
     "output_type": "display_data"
    }
   ],
   "source": [
    "plt.figure(figsize = (12,6))\n",
    "plt.hist(results, bins = (101))\n",
    "plt.xlabel(\"Quality of selected Prince (100 is best)\")\n",
    "plt.ylabel(\"No. of Occurences\")\n",
    "plt.title(\"Prince Selection (Applicants = 100, Testgroup = 5, sims = 1000)\", fontsize = 15)\n",
    "plt.show()"
   ]
  },
  {
   "cell_type": "markdown",
   "metadata": {},
   "source": [
    "The histogram __looks different__ compared to the histogram with __size_testgroup equal to 50 or 37__. We have __less frequency in the extreme outcomes__ (no prince at all or Prince Charming) and __more frequency in the middle__."
   ]
  },
  {
   "cell_type": "markdown",
   "metadata": {},
   "source": [
    "Feel free to __variate size_testgroup__ and __compare__ the histogramms!"
   ]
  },
  {
   "cell_type": "markdown",
   "metadata": {},
   "source": [
    "# Thanks and see you in the Numpy Section!!!"
   ]
  }
 ],
 "metadata": {
  "kernelspec": {
   "display_name": "Python 3",
   "language": "python",
   "name": "python3"
  },
  "language_info": {
   "codemirror_mode": {
    "name": "ipython",
    "version": 3
   },
   "file_extension": ".py",
   "mimetype": "text/x-python",
   "name": "python",
   "nbconvert_exporter": "python",
   "pygments_lexer": "ipython3",
   "version": "3.7.3"
  }
 },
 "nbformat": 4,
 "nbformat_minor": 2
}
