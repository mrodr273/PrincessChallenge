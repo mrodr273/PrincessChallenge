{
 "cells": [
  {
   "cell_type": "markdown",
   "metadata": {},
   "source": [
    "# The Princess Challenge (Part 2)\n",
    "\n",
    "## Boosting Performance with vectorized NumPy code\n"
   ]
  },
  {
   "cell_type": "code",
   "execution_count": 70,
   "metadata": {},
   "outputs": [],
   "source": [
    "import numpy as np\n",
    "import matplotlib.pyplot as plt\n",
    "plt.style.use(\"seaborn\")\n",
    "%matplotlib inline "
   ]
  },
  {
   "cell_type": "markdown",
   "metadata": {},
   "source": [
    "## 1. Getting startet...one simulation"
   ]
  },
  {
   "cell_type": "code",
   "execution_count": 71,
   "metadata": {},
   "outputs": [],
   "source": [
    "size_applicants = 100\n",
    "size_testgroup = 50"
   ]
  },
  {
   "cell_type": "code",
   "execution_count": 72,
   "metadata": {},
   "outputs": [
    {
     "data": {
      "text/plain": [
       "array([  1,   2,   3,   4,   5,   6,   7,   8,   9,  10,  11,  12,  13,\n",
       "        14,  15,  16,  17,  18,  19,  20,  21,  22,  23,  24,  25,  26,\n",
       "        27,  28,  29,  30,  31,  32,  33,  34,  35,  36,  37,  38,  39,\n",
       "        40,  41,  42,  43,  44,  45,  46,  47,  48,  49,  50,  51,  52,\n",
       "        53,  54,  55,  56,  57,  58,  59,  60,  61,  62,  63,  64,  65,\n",
       "        66,  67,  68,  69,  70,  71,  72,  73,  74,  75,  76,  77,  78,\n",
       "        79,  80,  81,  82,  83,  84,  85,  86,  87,  88,  89,  90,  91,\n",
       "        92,  93,  94,  95,  96,  97,  98,  99, 100])"
      ]
     },
     "execution_count": 72,
     "metadata": {},
     "output_type": "execute_result"
    }
   ],
   "source": [
    "np.arange(1, size_applicants+1)"
   ]
  },
  {
   "cell_type": "code",
   "execution_count": 73,
   "metadata": {},
   "outputs": [],
   "source": [
    "applicants_sorted = np.arange(1, size_applicants+1)"
   ]
  },
  {
   "cell_type": "code",
   "execution_count": 74,
   "metadata": {},
   "outputs": [
    {
     "data": {
      "text/plain": [
       "array([  1,   2,   3,   4,   5,   6,   7,   8,   9,  10,  11,  12,  13,\n",
       "        14,  15,  16,  17,  18,  19,  20,  21,  22,  23,  24,  25,  26,\n",
       "        27,  28,  29,  30,  31,  32,  33,  34,  35,  36,  37,  38,  39,\n",
       "        40,  41,  42,  43,  44,  45,  46,  47,  48,  49,  50,  51,  52,\n",
       "        53,  54,  55,  56,  57,  58,  59,  60,  61,  62,  63,  64,  65,\n",
       "        66,  67,  68,  69,  70,  71,  72,  73,  74,  75,  76,  77,  78,\n",
       "        79,  80,  81,  82,  83,  84,  85,  86,  87,  88,  89,  90,  91,\n",
       "        92,  93,  94,  95,  96,  97,  98,  99, 100])"
      ]
     },
     "execution_count": 74,
     "metadata": {},
     "output_type": "execute_result"
    }
   ],
   "source": [
    "applicants_sorted"
   ]
  },
  {
   "cell_type": "code",
   "execution_count": 75,
   "metadata": {},
   "outputs": [],
   "source": [
    "np.random.seed(123)\n",
    "np.random.shuffle(applicants_sorted)"
   ]
  },
  {
   "cell_type": "code",
   "execution_count": 76,
   "metadata": {},
   "outputs": [],
   "source": [
    "applicants_unsorted = applicants_sorted[:]"
   ]
  },
  {
   "cell_type": "code",
   "execution_count": 77,
   "metadata": {},
   "outputs": [
    {
     "data": {
      "text/plain": [
       "array([  9,  71,  83,  29,  64,   1,   6,  51,  82,   5,  24,  66,  77,\n",
       "        61,  25,  43,  78,  39,  57,  76,  36,  89,  20,  30,  32,  92,\n",
       "        86,  10,  54,  42,  22,  91,  34,  70,  85,  88,  96,  98,  63,\n",
       "        13,  21,  90,  38,  60,   2,  75,  12,  80,  15,  55,  17,  27,\n",
       "        52,  46,   7,  99,  31,  45,  73,  44,  16,  95,  19,  14,  23,\n",
       "        11,  59,  72,  65,   4,  41,  35,  28,  53,   8,  49,  62,  94,\n",
       "       100,  40,   3,  68,  56,  50,  69,  81,  37,  79,  97,  26,  47,\n",
       "        33,  74,  48,  87,  58,  84,  18,  93,  67])"
      ]
     },
     "execution_count": 77,
     "metadata": {},
     "output_type": "execute_result"
    }
   ],
   "source": [
    "applicants_unsorted"
   ]
  },
  {
   "cell_type": "code",
   "execution_count": 78,
   "metadata": {},
   "outputs": [],
   "source": [
    "testgroup = applicants_unsorted[:size_testgroup]"
   ]
  },
  {
   "cell_type": "code",
   "execution_count": 79,
   "metadata": {},
   "outputs": [
    {
     "data": {
      "text/plain": [
       "array([ 9, 71, 83, 29, 64,  1,  6, 51, 82,  5, 24, 66, 77, 61, 25, 43, 78,\n",
       "       39, 57, 76, 36, 89, 20, 30, 32, 92, 86, 10, 54, 42, 22, 91, 34, 70,\n",
       "       85, 88, 96, 98, 63, 13, 21, 90, 38, 60,  2, 75, 12, 80, 15, 55])"
      ]
     },
     "execution_count": 79,
     "metadata": {},
     "output_type": "execute_result"
    }
   ],
   "source": [
    "testgroup"
   ]
  },
  {
   "cell_type": "code",
   "execution_count": 80,
   "metadata": {},
   "outputs": [
    {
     "data": {
      "text/plain": [
       "50"
      ]
     },
     "execution_count": 80,
     "metadata": {},
     "output_type": "execute_result"
    }
   ],
   "source": [
    "len(testgroup)"
   ]
  },
  {
   "cell_type": "code",
   "execution_count": 81,
   "metadata": {},
   "outputs": [],
   "source": [
    "testgroup.sort()"
   ]
  },
  {
   "cell_type": "code",
   "execution_count": 82,
   "metadata": {},
   "outputs": [
    {
     "data": {
      "text/plain": [
       "array([ 1,  2,  5,  6,  9, 10, 12, 13, 15, 20, 21, 22, 24, 25, 29, 30, 32,\n",
       "       34, 36, 38, 39, 42, 43, 51, 54, 55, 57, 60, 61, 63, 64, 66, 70, 71,\n",
       "       75, 76, 77, 78, 80, 82, 83, 85, 86, 88, 89, 90, 91, 92, 96, 98])"
      ]
     },
     "execution_count": 82,
     "metadata": {},
     "output_type": "execute_result"
    }
   ],
   "source": [
    "testgroup"
   ]
  },
  {
   "cell_type": "code",
   "execution_count": 83,
   "metadata": {},
   "outputs": [],
   "source": [
    "n_best = 1"
   ]
  },
  {
   "cell_type": "code",
   "execution_count": 84,
   "metadata": {},
   "outputs": [],
   "source": [
    "testgroup_best = testgroup[-n_best]"
   ]
  },
  {
   "cell_type": "code",
   "execution_count": 85,
   "metadata": {},
   "outputs": [
    {
     "data": {
      "text/plain": [
       "98"
      ]
     },
     "execution_count": 85,
     "metadata": {},
     "output_type": "execute_result"
    }
   ],
   "source": [
    "testgroup_best"
   ]
  },
  {
   "cell_type": "code",
   "execution_count": 86,
   "metadata": {},
   "outputs": [],
   "source": [
    "selectgroup = applicants_unsorted[size_testgroup:]"
   ]
  },
  {
   "cell_type": "code",
   "execution_count": 87,
   "metadata": {},
   "outputs": [
    {
     "data": {
      "text/plain": [
       "array([ 17,  27,  52,  46,   7,  99,  31,  45,  73,  44,  16,  95,  19,\n",
       "        14,  23,  11,  59,  72,  65,   4,  41,  35,  28,  53,   8,  49,\n",
       "        62,  94, 100,  40,   3,  68,  56,  50,  69,  81,  37,  79,  97,\n",
       "        26,  47,  33,  74,  48,  87,  58,  84,  18,  93,  67])"
      ]
     },
     "execution_count": 87,
     "metadata": {},
     "output_type": "execute_result"
    }
   ],
   "source": [
    "selectgroup"
   ]
  },
  {
   "cell_type": "code",
   "execution_count": 88,
   "metadata": {},
   "outputs": [
    {
     "data": {
      "text/plain": [
       "50"
      ]
     },
     "execution_count": 88,
     "metadata": {},
     "output_type": "execute_result"
    }
   ],
   "source": [
    "len(selectgroup)"
   ]
  },
  {
   "cell_type": "code",
   "execution_count": 89,
   "metadata": {},
   "outputs": [
    {
     "data": {
      "text/plain": [
       "array([False, False, False, False, False,  True, False, False, False,\n",
       "       False, False, False, False, False, False, False, False, False,\n",
       "       False, False, False, False, False, False, False, False, False,\n",
       "       False,  True, False, False, False, False, False, False, False,\n",
       "       False, False, False, False, False, False, False, False, False,\n",
       "       False, False, False, False, False])"
      ]
     },
     "execution_count": 89,
     "metadata": {},
     "output_type": "execute_result"
    }
   ],
   "source": [
    "selectgroup > testgroup_best"
   ]
  },
  {
   "cell_type": "code",
   "execution_count": 159,
   "metadata": {},
   "outputs": [
    {
     "data": {
      "text/plain": [
       "array([ 99, 100,   0])"
      ]
     },
     "execution_count": 159,
     "metadata": {},
     "output_type": "execute_result"
    }
   ],
   "source": [
    "np.append(selectgroup[selectgroup > testgroup_best], 0)"
   ]
  },
  {
   "cell_type": "code",
   "execution_count": 160,
   "metadata": {},
   "outputs": [
    {
     "data": {
      "text/plain": [
       "99"
      ]
     },
     "execution_count": 160,
     "metadata": {},
     "output_type": "execute_result"
    }
   ],
   "source": [
    "selection = selectgroup[selectgroup > testgroup_best][0]\n",
    "selection"
   ]
  },
  {
   "cell_type": "code",
   "execution_count": 92,
   "metadata": {},
   "outputs": [
    {
     "data": {
      "text/plain": [
       "99"
      ]
     },
     "execution_count": 92,
     "metadata": {},
     "output_type": "execute_result"
    }
   ],
   "source": [
    "selection = np.append(selectgroup[selectgroup > testgroup_best], 0)[0]\n",
    "selection"
   ]
  },
  {
   "cell_type": "code",
   "execution_count": 162,
   "metadata": {},
   "outputs": [],
   "source": [
    "size_applicants = 100\n",
    "size_testgroup = 50\n",
    "n_best = 1"
   ]
  },
  {
   "cell_type": "code",
   "execution_count": 163,
   "metadata": {},
   "outputs": [
    {
     "name": "stdout",
     "output_type": "stream",
     "text": [
      "99\n"
     ]
    }
   ],
   "source": [
    "applicants_sorted = np.arange(1, size_applicants+1)\n",
    "\n",
    "np.random.seed(123)\n",
    "np.random.shuffle(applicants_sorted)\n",
    "\n",
    "applicants_unsorted = applicants_sorted[:]\n",
    "testgroup = applicants_unsorted[:size_testgroup]\n",
    "testgroup.sort()\n",
    "testgroup_best = testgroup[-n_best]\n",
    "selectgroup = applicants_unsorted[size_testgroup:]\n",
    "\n",
    "selection = np.append(selectgroup[selectgroup > testgroup_best], 0)[0]\n",
    "\n",
    "print(selection)\n"
   ]
  },
  {
   "cell_type": "markdown",
   "metadata": {},
   "source": [
    "## 2. Getting  probabilistic...with many simulations"
   ]
  },
  {
   "cell_type": "code",
   "execution_count": 164,
   "metadata": {},
   "outputs": [],
   "source": [
    "import numpy as np"
   ]
  },
  {
   "cell_type": "markdown",
   "metadata": {},
   "source": [
    "### Toy Example"
   ]
  },
  {
   "cell_type": "code",
   "execution_count": 165,
   "metadata": {},
   "outputs": [],
   "source": [
    "size_applicants = 10\n",
    "size_testgroup = 5\n",
    "n_best = 1\n",
    "sims = 10"
   ]
  },
  {
   "cell_type": "code",
   "execution_count": 166,
   "metadata": {},
   "outputs": [
    {
     "data": {
      "text/plain": [
       "array([ 1,  2,  3,  4,  5,  6,  7,  8,  9, 10])"
      ]
     },
     "execution_count": 166,
     "metadata": {},
     "output_type": "execute_result"
    }
   ],
   "source": [
    "np.arange(1, size_applicants+1)"
   ]
  },
  {
   "cell_type": "code",
   "execution_count": 167,
   "metadata": {},
   "outputs": [
    {
     "data": {
      "text/plain": [
       "array([[ 1,  2,  3,  4,  5,  6,  7,  8,  9, 10],\n",
       "       [ 1,  2,  3,  4,  5,  6,  7,  8,  9, 10],\n",
       "       [ 1,  2,  3,  4,  5,  6,  7,  8,  9, 10],\n",
       "       [ 1,  2,  3,  4,  5,  6,  7,  8,  9, 10],\n",
       "       [ 1,  2,  3,  4,  5,  6,  7,  8,  9, 10],\n",
       "       [ 1,  2,  3,  4,  5,  6,  7,  8,  9, 10],\n",
       "       [ 1,  2,  3,  4,  5,  6,  7,  8,  9, 10],\n",
       "       [ 1,  2,  3,  4,  5,  6,  7,  8,  9, 10],\n",
       "       [ 1,  2,  3,  4,  5,  6,  7,  8,  9, 10],\n",
       "       [ 1,  2,  3,  4,  5,  6,  7,  8,  9, 10]])"
      ]
     },
     "execution_count": 167,
     "metadata": {},
     "output_type": "execute_result"
    }
   ],
   "source": [
    "m  = np.resize(np.arange(1, size_applicants+1), (sims, size_applicants))\n",
    "m"
   ]
  },
  {
   "cell_type": "code",
   "execution_count": 168,
   "metadata": {},
   "outputs": [],
   "source": [
    "np.random.seed(123)\n",
    "for i in range(sims):\n",
    "    np.random.shuffle(m[i])"
   ]
  },
  {
   "cell_type": "code",
   "execution_count": 169,
   "metadata": {},
   "outputs": [
    {
     "data": {
      "text/plain": [
       "array([[ 5,  1,  8,  6,  9,  4,  2,  7, 10,  3],\n",
       "       [ 4,  6,  5,  3,  9,  8,  7, 10,  1,  2],\n",
       "       [ 3,  2,  9,  8,  1,  5,  6,  7,  4, 10],\n",
       "       [ 6,  2,  1,  9,  7, 10,  5,  3,  4,  8],\n",
       "       [ 7,  9,  3, 10,  6,  5,  4,  2,  8,  1],\n",
       "       [10,  5,  8,  1,  2,  3,  4,  9,  7,  6],\n",
       "       [ 8,  9,  2,  5, 10,  7,  3,  4,  1,  6],\n",
       "       [ 2,  8,  9,  1,  3,  4,  6,  7, 10,  5],\n",
       "       [ 1, 10,  6,  3,  9,  2,  7,  4,  8,  5],\n",
       "       [ 7,  4,  6,  9,  8,  2,  1,  5,  3, 10]])"
      ]
     },
     "execution_count": 169,
     "metadata": {},
     "output_type": "execute_result"
    }
   ],
   "source": [
    "m"
   ]
  },
  {
   "cell_type": "code",
   "execution_count": 170,
   "metadata": {},
   "outputs": [],
   "source": [
    "test_matrix =  m[:,:size_testgroup]"
   ]
  },
  {
   "cell_type": "code",
   "execution_count": 171,
   "metadata": {},
   "outputs": [
    {
     "data": {
      "text/plain": [
       "array([[ 5,  1,  8,  6,  9],\n",
       "       [ 4,  6,  5,  3,  9],\n",
       "       [ 3,  2,  9,  8,  1],\n",
       "       [ 6,  2,  1,  9,  7],\n",
       "       [ 7,  9,  3, 10,  6],\n",
       "       [10,  5,  8,  1,  2],\n",
       "       [ 8,  9,  2,  5, 10],\n",
       "       [ 2,  8,  9,  1,  3],\n",
       "       [ 1, 10,  6,  3,  9],\n",
       "       [ 7,  4,  6,  9,  8]])"
      ]
     },
     "execution_count": 171,
     "metadata": {},
     "output_type": "execute_result"
    }
   ],
   "source": [
    "test_matrix"
   ]
  },
  {
   "cell_type": "code",
   "execution_count": 172,
   "metadata": {},
   "outputs": [],
   "source": [
    "test_matrix.sort()"
   ]
  },
  {
   "cell_type": "code",
   "execution_count": 173,
   "metadata": {},
   "outputs": [
    {
     "data": {
      "text/plain": [
       "array([[ 1,  5,  6,  8,  9],\n",
       "       [ 3,  4,  5,  6,  9],\n",
       "       [ 1,  2,  3,  8,  9],\n",
       "       [ 1,  2,  6,  7,  9],\n",
       "       [ 3,  6,  7,  9, 10],\n",
       "       [ 1,  2,  5,  8, 10],\n",
       "       [ 2,  5,  8,  9, 10],\n",
       "       [ 1,  2,  3,  8,  9],\n",
       "       [ 1,  3,  6,  9, 10],\n",
       "       [ 4,  6,  7,  8,  9]])"
      ]
     },
     "execution_count": 173,
     "metadata": {},
     "output_type": "execute_result"
    }
   ],
   "source": [
    "test_matrix"
   ]
  },
  {
   "cell_type": "code",
   "execution_count": 174,
   "metadata": {},
   "outputs": [],
   "source": [
    "test_matrix_best = test_matrix[:,-n_best]"
   ]
  },
  {
   "cell_type": "code",
   "execution_count": 175,
   "metadata": {},
   "outputs": [
    {
     "data": {
      "text/plain": [
       "array([ 9,  9,  9,  9, 10, 10, 10,  9, 10,  9])"
      ]
     },
     "execution_count": 175,
     "metadata": {},
     "output_type": "execute_result"
    }
   ],
   "source": [
    "test_matrix_best"
   ]
  },
  {
   "cell_type": "code",
   "execution_count": 176,
   "metadata": {},
   "outputs": [],
   "source": [
    "select_matrix = m[:,size_testgroup:]"
   ]
  },
  {
   "cell_type": "code",
   "execution_count": 177,
   "metadata": {},
   "outputs": [
    {
     "data": {
      "text/plain": [
       "array([[ 4,  2,  7, 10,  3],\n",
       "       [ 8,  7, 10,  1,  2],\n",
       "       [ 5,  6,  7,  4, 10],\n",
       "       [10,  5,  3,  4,  8],\n",
       "       [ 5,  4,  2,  8,  1],\n",
       "       [ 3,  4,  9,  7,  6],\n",
       "       [ 7,  3,  4,  1,  6],\n",
       "       [ 4,  6,  7, 10,  5],\n",
       "       [ 2,  7,  4,  8,  5],\n",
       "       [ 2,  1,  5,  3, 10]])"
      ]
     },
     "execution_count": 177,
     "metadata": {},
     "output_type": "execute_result"
    }
   ],
   "source": [
    "select_matrix"
   ]
  },
  {
   "cell_type": "code",
   "execution_count": 185,
   "metadata": {},
   "outputs": [
    {
     "data": {
      "text/plain": [
       "array([10])"
      ]
     },
     "execution_count": 185,
     "metadata": {},
     "output_type": "execute_result"
    }
   ],
   "source": [
    "select_matrix[0][select_matrix[0] > test_matrix_best[0]]"
   ]
  },
  {
   "cell_type": "code",
   "execution_count": 191,
   "metadata": {},
   "outputs": [
    {
     "name": "stdout",
     "output_type": "stream",
     "text": [
      "10\n",
      "10\n",
      "10\n",
      "10\n",
      "0\n",
      "0\n",
      "0\n",
      "10\n",
      "0\n",
      "10\n"
     ]
    }
   ],
   "source": [
    "for i in range(sims):\n",
    "    print(np.append(select_matrix[i][select_matrix[i] > test_matrix_best[i]], 0)[0])"
   ]
  },
  {
   "cell_type": "code",
   "execution_count": 192,
   "metadata": {},
   "outputs": [],
   "source": [
    "results = np.empty(sims)\n",
    "for i in range(sims):\n",
    "    results[i] = np.append(select_matrix[i][select_matrix[i] > test_matrix_best[i]], 0)[0]"
   ]
  },
  {
   "cell_type": "code",
   "execution_count": 193,
   "metadata": {},
   "outputs": [
    {
     "data": {
      "text/plain": [
       "array([10., 10., 10., 10.,  0.,  0.,  0., 10.,  0., 10.])"
      ]
     },
     "execution_count": 193,
     "metadata": {},
     "output_type": "execute_result"
    }
   ],
   "source": [
    "results"
   ]
  },
  {
   "cell_type": "code",
   "execution_count": 194,
   "metadata": {},
   "outputs": [],
   "source": [
    "size_applicants = 10\n",
    "size_testgroup = 5\n",
    "n_best = 1\n",
    "sims = 10"
   ]
  },
  {
   "cell_type": "code",
   "execution_count": 195,
   "metadata": {},
   "outputs": [
    {
     "name": "stdout",
     "output_type": "stream",
     "text": [
      "[10. 10. 10. 10.  0.  0.  0. 10.  0. 10.]\n"
     ]
    }
   ],
   "source": [
    "m  = np.resize(np.arange(1, size_applicants+1), (sims, size_applicants))\n",
    "\n",
    "np.random.seed(123)\n",
    "for i in range(sims):\n",
    "    np.random.shuffle(m[i])\n",
    "\n",
    "test_matrix =  m[:,:size_testgroup]\n",
    "test_matrix.sort()\n",
    "test_matrix_best = test_matrix[:,-n_best]\n",
    "select_matrix = m[:,size_testgroup:]\n",
    "\n",
    "results = np.empty(sims)\n",
    "for i in range(sims):\n",
    "    results[i] = np.append(select_matrix[i][select_matrix[i] > test_matrix_best[i]], 0)[0]\n",
    "\n",
    "print(results)"
   ]
  },
  {
   "cell_type": "markdown",
   "metadata": {},
   "source": [
    "### Princess Challenge"
   ]
  },
  {
   "cell_type": "code",
   "execution_count": 196,
   "metadata": {},
   "outputs": [],
   "source": [
    "size_applicants = 100\n",
    "size_testgroup = 50\n",
    "n_best = 1\n",
    "sims = 1000"
   ]
  },
  {
   "cell_type": "code",
   "execution_count": 197,
   "metadata": {
    "scrolled": true
   },
   "outputs": [
    {
     "name": "stdout",
     "output_type": "stream",
     "text": [
      "[ 99.   0.   0.  99. 100. 100.   0.   0.   0. 100.   0. 100.  97. 100.\n",
      "   0.   0.   0. 100.  98. 100.  99.  99.   0. 100.   0. 100.   0. 100.\n",
      "   0.   0. 100. 100.   0.  99.   0. 100.  99.  99. 100. 100.   0.   0.\n",
      " 100.   0. 100. 100.   0.   0.  97. 100.  99. 100.   0. 100.   0.   0.\n",
      "   0.   0.  99.   0. 100.  99. 100. 100. 100.  99. 100.   0.   0. 100.\n",
      " 100. 100.   0. 100. 100.   0.   0. 100.   0.   0.   0. 100. 100. 100.\n",
      "  96.   0.  98.   0. 100.  99. 100.  99. 100.   0.   0.   0.   0.   0.\n",
      " 100.   0. 100.   0. 100.   0. 100.   0.  99.   0.   0.   0.  99.   0.\n",
      " 100. 100.  99.  99. 100.  99.   0.   0. 100.   0.   0.   0.   0.  99.\n",
      " 100. 100.   0.   0. 100.   0.  99.   0.   0. 100.   0.   0.   0.   0.\n",
      "   0. 100.  97. 100.   0. 100.   0.   0.   0. 100.  98.   0. 100.   0.\n",
      "   0. 100.   0. 100.   0.   0.  99. 100. 100.   0.   0.   0. 100.   0.\n",
      " 100. 100.   0.  97. 100. 100. 100. 100.   0.   0. 100. 100. 100.  99.\n",
      " 100. 100.   0. 100.   0.   0.   0.   0.   0.   0.   0.   0.   0. 100.\n",
      "   0.   0. 100.   0.  98.   0.  99. 100.  99.   0.   0.   0.   0.  99.\n",
      "  96.   0.   0.  98. 100.   0.   0. 100. 100.  99. 100.   0. 100. 100.\n",
      "   0.   0.   0.   0. 100. 100. 100.  99. 100.   0.  98.  98.   0. 100.\n",
      " 100.   0. 100.   0.   0. 100.   0. 100. 100.   0. 100.  99. 100.   0.\n",
      " 100. 100.   0.   0.  98.   0.   0.   0.  99.   0.   0. 100. 100. 100.\n",
      "   0.  99. 100.  99. 100.  99.   0.   0. 100.  99. 100.   0.   0.   0.\n",
      "   0.  99.   0.   0. 100.   0.  99.  98. 100. 100. 100. 100.   0.   0.\n",
      "   0. 100.   0. 100.   0.   0.   0.   0.   0.   0. 100. 100.   0.   0.\n",
      "   0. 100.  96. 100.   0.   0. 100.   0.  99. 100. 100.  96. 100.   0.\n",
      " 100.   0.   0. 100.  99.  99.   0.   0.   0. 100. 100.   0. 100.   0.\n",
      "   0.   0.   0. 100.   0.   0. 100.  99.   0.   0.   0.  99.   0. 100.\n",
      " 100.   0.   0.   0. 100. 100. 100.   0. 100.   0. 100. 100.   0.   0.\n",
      " 100. 100. 100.   0. 100.  97.  99.   0. 100. 100. 100. 100. 100. 100.\n",
      "   0.   0. 100.  99. 100.   0.   0. 100. 100.   0. 100.  99. 100.   0.\n",
      " 100.   0. 100.   0.   0. 100. 100.   0.   0.   0.   0. 100. 100.   0.\n",
      "   0. 100.  99.  99. 100.   0. 100.   0. 100.   0.  99.   0. 100.   0.\n",
      "   0. 100. 100.   0.   0.   0.  98. 100. 100.  98.   0.   0.  99.  99.\n",
      "   0.  98.  99. 100. 100. 100. 100.   0.   0. 100. 100.   0. 100.  99.\n",
      "   0.  99.   0.  97.   0.   0.  99.   0.   0.  98.   0.   0.  98. 100.\n",
      "   0.   0.   0.   0.   0.   0.  98. 100.   0. 100. 100.   0. 100. 100.\n",
      " 100. 100.   0.   0. 100.   0.   0.   0.   0.   0. 100. 100. 100.  99.\n",
      "  99. 100.   0.   0. 100.   0.   0. 100. 100. 100. 100.   0. 100. 100.\n",
      "   0. 100.   0.   0.   0.   0. 100. 100.   0.  99.   0.   0. 100.   0.\n",
      " 100.   0. 100.   0. 100.  98. 100.   0.  99. 100. 100.   0.   0.   0.\n",
      "   0.   0. 100. 100.   0. 100.   0.   0.   0. 100. 100.  98. 100. 100.\n",
      " 100.   0.   0.   0.   0.   0. 100. 100.   0. 100.   0.   0. 100. 100.\n",
      "   0.   0.   0. 100. 100. 100.   0.   0.   0. 100.   0. 100. 100. 100.\n",
      "   0.   0.  99.   0. 100.   0.   0. 100. 100. 100.   0.   0.   0.  98.\n",
      "   0.   0.  99. 100. 100.  97.   0.   0.   0.  99.  99.   0. 100. 100.\n",
      "   0.  99.   0. 100.   0.   0.   0.   0.   0. 100. 100.   0. 100.   0.\n",
      "  98.   0.   0.   0.   0.   0. 100. 100.   0.  98.   0.  99. 100.  97.\n",
      "   0. 100. 100.   0.   0.   0.   0.  99.   0.   0. 100.   0.   0.   0.\n",
      "   0. 100. 100.   0.   0. 100. 100.   0.   0. 100.   0.   0. 100.   0.\n",
      "  97.   0.   0.   0. 100.  99.   0.   0. 100. 100.   0.   0.   0.   0.\n",
      "   0. 100. 100.   0.   0.   0.   0. 100.   0.   0.  97.  98.   0.   0.\n",
      " 100. 100.   0. 100.   0.   0.   0.   0.   0.   0. 100.  99.   0.   0.\n",
      " 100.  99.   0.   0.  99. 100. 100.  97.  96.  97.  98.   0.  98.  99.\n",
      "   0. 100.   0.   0.   0.  97.   0. 100. 100. 100.   0. 100. 100.  99.\n",
      " 100. 100.   0. 100.   0.   0.   0.   0.   0.   0.   0.   0.  99. 100.\n",
      "   0. 100.  99. 100.   0.  98. 100.   0.  99. 100. 100. 100.   0.   0.\n",
      "   0.  96. 100.  97.   0.  99.   0.   0.   0.   0. 100.   0.   0. 100.\n",
      "   0.   0.   0.   0. 100. 100.   0.   0. 100.   0.   0.   0. 100. 100.\n",
      "   0.  98.   0. 100.   0.   0. 100.  99.   0.   0.   0.   0.   0. 100.\n",
      " 100. 100.   0. 100. 100. 100. 100.   0.  99.   0.   0. 100.   0.   0.\n",
      "   0. 100.   0.   0. 100.  99. 100.   0.   0.  98.   0.   0.   0.   0.\n",
      "   0.  98. 100. 100.   0. 100. 100.   0. 100.   0.   0.   0.   0.   0.\n",
      " 100. 100. 100. 100. 100.   0.  99. 100.   0. 100.  99.   0. 100. 100.\n",
      " 100.   0.   0.   0.  99. 100.   0. 100.   0.   0.  94.   0. 100. 100.\n",
      "  98.   0.   0.   0.   0.   0.   0.   0.  99. 100.   0. 100. 100.   0.\n",
      " 100.   0. 100.   0.   0. 100. 100. 100.   0.   0. 100.   0.   0.   0.\n",
      "   0. 100.  99.   0.  98.   0.   0. 100. 100. 100. 100. 100. 100.  99.\n",
      " 100.   0.   0.   0.   0. 100.   0.  96.   0.   0.  99. 100.   0.   0.\n",
      "   0.   0. 100. 100. 100.   0.   0. 100.   0.   0.   0.   0. 100.   0.\n",
      "   0. 100. 100. 100.  99.   0. 100. 100.  99.   0.   0. 100.  98.  97.\n",
      "   0.   0.  99. 100.   0. 100. 100. 100.  99.   0. 100.  98. 100.   0.\n",
      "  99. 100.  99.   0.  98. 100. 100.   0.   0.   0. 100.   0.  98. 100.\n",
      "   0.   0.   0.   0.   0. 100.   0. 100. 100.   0.  99.  99.   0. 100.\n",
      "   0.   0. 100.   0.   0.   0.]\n"
     ]
    }
   ],
   "source": [
    "m  = np.resize(np.arange(1, size_applicants+1), (sims, size_applicants))\n",
    "\n",
    "np.random.seed(123)\n",
    "for i in range(sims):\n",
    "    np.random.shuffle(m[i])\n",
    "\n",
    "test_matrix =  m[:,:size_testgroup]\n",
    "test_matrix.sort()\n",
    "test_matrix_best = test_matrix[:,-n_best]\n",
    "select_matrix = m[:,size_testgroup:]\n",
    "\n",
    "results = np.empty(sims)\n",
    "for i in range(sims):\n",
    "    results[i] = np.append(select_matrix[i][select_matrix[i] > test_matrix_best[i]], 0)[0]\n",
    "\n",
    "print(results)"
   ]
  },
  {
   "cell_type": "markdown",
   "metadata": {},
   "source": [
    "## 3. Analyzing results and calculating statistics"
   ]
  },
  {
   "cell_type": "code",
   "execution_count": 117,
   "metadata": {},
   "outputs": [
    {
     "data": {
      "text/plain": [
       "0.0"
      ]
     },
     "execution_count": 117,
     "metadata": {},
     "output_type": "execute_result"
    }
   ],
   "source": [
    "#Min\n",
    "Min = results.min()\n",
    "Min"
   ]
  },
  {
   "cell_type": "code",
   "execution_count": 118,
   "metadata": {},
   "outputs": [
    {
     "data": {
      "text/plain": [
       "100.0"
      ]
     },
     "execution_count": 118,
     "metadata": {},
     "output_type": "execute_result"
    }
   ],
   "source": [
    "#Max\n",
    "Max = results.max()\n",
    "Max"
   ]
  },
  {
   "cell_type": "code",
   "execution_count": 119,
   "metadata": {},
   "outputs": [
    {
     "data": {
      "text/plain": [
       "50.364"
      ]
     },
     "execution_count": 119,
     "metadata": {},
     "output_type": "execute_result"
    }
   ],
   "source": [
    "#Mean\n",
    "Mean = results.mean()\n",
    "Mean"
   ]
  },
  {
   "cell_type": "code",
   "execution_count": 120,
   "metadata": {},
   "outputs": [
    {
     "data": {
      "text/plain": [
       "359"
      ]
     },
     "execution_count": 120,
     "metadata": {},
     "output_type": "execute_result"
    }
   ],
   "source": [
    "#Count\n",
    "Count = results[results == size_applicants].size\n",
    "Count"
   ]
  },
  {
   "cell_type": "code",
   "execution_count": 121,
   "metadata": {},
   "outputs": [
    {
     "data": {
      "text/plain": [
       "0.359"
      ]
     },
     "execution_count": 121,
     "metadata": {},
     "output_type": "execute_result"
    }
   ],
   "source": [
    "#prob_best\n",
    "prob_best = Count/sims\n",
    "prob_best"
   ]
  },
  {
   "cell_type": "markdown",
   "metadata": {},
   "source": [
    "### Visualization"
   ]
  },
  {
   "cell_type": "code",
   "execution_count": 122,
   "metadata": {},
   "outputs": [],
   "source": [
    "%matplotlib inline\n",
    "import matplotlib.pyplot as plt\n",
    "plt.style.use(\"seaborn\")"
   ]
  },
  {
   "cell_type": "code",
   "execution_count": 123,
   "metadata": {},
   "outputs": [
    {
     "data": {
      "image/png": "[encoded data removed]",
      "text/plain": [
       "<Figure size 864x432 with 1 Axes>"
      ]
     },
     "metadata": {},
     "output_type": "display_data"
    }
   ],
   "source": [
    "plt.figure(figsize = (12,6))\n",
    "plt.hist(results, bins = int(Max-Min+1))\n",
    "plt.xlabel(\"Quality of selected Prince (100 is best)\", fontsize = 15)\n",
    "plt.ylabel(\"Frequency\", fontsize = 15)\n",
    "plt.title(\"Prince Selection Frequency Distribution (Applicants = 100, Testgroup = 50, sims = 1000)\", fontsize = 15)\n",
    "plt.show()"
   ]
  },
  {
   "cell_type": "markdown",
   "metadata": {},
   "source": [
    "## 4. Automation by writing a Function"
   ]
  },
  {
   "cell_type": "markdown",
   "metadata": {},
   "source": [
    "### Python Standard Library Solution"
   ]
  },
  {
   "cell_type": "code",
   "execution_count": 124,
   "metadata": {},
   "outputs": [],
   "source": [
    "import random"
   ]
  },
  {
   "cell_type": "code",
   "execution_count": 125,
   "metadata": {},
   "outputs": [],
   "source": [
    "def Princess(size_applicants = 100, size_testgroup = 50, sims = 1000, seed = 114, metric = \"results\", n_best = 1):\n",
    "    \n",
    "    results =[]\n",
    "    random.seed(seed)\n",
    "    for _ in range(sims):\n",
    "\n",
    "        applicants_sorted = list(range(1, size_applicants+1))\n",
    "        applicants_unsorted = random.sample(applicants_sorted, size_applicants)\n",
    "        testgroup = applicants_unsorted[:size_testgroup]\n",
    "        testgroup_nbest = sorted(testgroup, reverse = True)[n_best-1]\n",
    "        selectgroup = applicants_unsorted[size_testgroup:]\n",
    "\n",
    "        selection = 0\n",
    "        for i in selectgroup:\n",
    "            if i > testgroup_nbest:\n",
    "                selection = i \n",
    "                break\n",
    "            else:\n",
    "                pass\n",
    "            \n",
    "        results.append(selection)  \n",
    "    prob_best = results.count(size_applicants)/sims\n",
    "    average = sum(results)/sims\n",
    "    \n",
    "    if metric == \"results\":\n",
    "        return results\n",
    "    elif metric == \"prob_best\":\n",
    "        return prob_best\n",
    "    elif metric == \"average\":\n",
    "        return average"
   ]
  },
  {
   "cell_type": "markdown",
   "metadata": {},
   "source": [
    "### NumPy"
   ]
  },
  {
   "cell_type": "code",
   "execution_count": 126,
   "metadata": {},
   "outputs": [],
   "source": [
    "def Princess_NP(size_applicants = 100, size_testgroup = 50, sims = 1000, seed = 123, metric = \"results\", n_best = 1):\n",
    "    \n",
    "    m  = np.resize(np.arange(1, size_applicants+1), (sims, size_applicants))\n",
    "\n",
    "    np.random.seed(seed)\n",
    "    for i in range(sims):\n",
    "        np.random.shuffle(m[i])\n",
    "\n",
    "    test_matrix =  m[:,:size_testgroup]\n",
    "    test_matrix.sort()\n",
    "    test_matrix_best = test_matrix[:,-n_best]\n",
    "    select_matrix = m[:,size_testgroup:]\n",
    "\n",
    "    results = np.empty(sims)\n",
    "    for i in range(sims):\n",
    "        results[i] = np.append(select_matrix[i][select_matrix[i] > test_matrix_best[i]], 0)[0]\n",
    "    \n",
    "\n",
    "    prob_best = results[results == size_applicants].size/sims\n",
    "    average = results.mean()\n",
    "    \n",
    "    if metric == \"results\":\n",
    "        return results\n",
    "    elif metric == \"prob_best\":\n",
    "        return prob_best\n",
    "    elif metric == \"average\":\n",
    "        return average"
   ]
  },
  {
   "cell_type": "code",
   "execution_count": 127,
   "metadata": {},
   "outputs": [
    {
     "data": {
      "text/plain": [
       "0.359"
      ]
     },
     "execution_count": 127,
     "metadata": {},
     "output_type": "execute_result"
    }
   ],
   "source": [
    "Princess_NP(metric = \"prob_best\")"
   ]
  },
  {
   "cell_type": "markdown",
   "metadata": {},
   "source": [
    "## 5. Speed Comparison"
   ]
  },
  {
   "cell_type": "markdown",
   "metadata": {},
   "source": [
    "### Python Standard Library"
   ]
  },
  {
   "cell_type": "code",
   "execution_count": 128,
   "metadata": {},
   "outputs": [
    {
     "data": {
      "text/plain": [
       "0.34932"
      ]
     },
     "execution_count": 128,
     "metadata": {},
     "output_type": "execute_result"
    }
   ],
   "source": [
    "Princess(sims = 100000, metric = \"prob_best\")"
   ]
  },
  {
   "cell_type": "code",
   "execution_count": 129,
   "metadata": {
    "scrolled": true
   },
   "outputs": [
    {
     "name": "stdout",
     "output_type": "stream",
     "text": [
      "10.2 s ± 639 ms per loop (mean ± std. dev. of 7 runs, 1 loop each)\n"
     ]
    }
   ],
   "source": [
    "%timeit Princess(size_applicants=1000, sims = 10000, metric = \"prob_best\", size_testgroup = 500)"
   ]
  },
  {
   "cell_type": "markdown",
   "metadata": {},
   "source": [
    "### Numpy"
   ]
  },
  {
   "cell_type": "code",
   "execution_count": 130,
   "metadata": {},
   "outputs": [
    {
     "data": {
      "text/plain": [
       "0.35034"
      ]
     },
     "execution_count": 130,
     "metadata": {},
     "output_type": "execute_result"
    }
   ],
   "source": [
    "Princess_NP(sims = 100000, metric= \"prob_best\")"
   ]
  },
  {
   "cell_type": "code",
   "execution_count": 131,
   "metadata": {},
   "outputs": [
    {
     "name": "stdout",
     "output_type": "stream",
     "text": [
      "958 ms ± 42.6 ms per loop (mean ± std. dev. of 7 runs, 1 loop each)\n"
     ]
    }
   ],
   "source": [
    "%timeit Princess_NP(size_applicants = 1000, sims = 10000, metric = \"prob_best\", size_testgroup = 500)"
   ]
  },
  {
   "cell_type": "markdown",
   "metadata": {},
   "source": [
    "## 6. Optimizing Strategies  for n_best = 1"
   ]
  },
  {
   "cell_type": "markdown",
   "metadata": {},
   "source": [
    "### Maximizing probability to find Prince Charming"
   ]
  },
  {
   "cell_type": "markdown",
   "metadata": {},
   "source": [
    "#### 100 Applicants"
   ]
  },
  {
   "cell_type": "code",
   "execution_count": 198,
   "metadata": {},
   "outputs": [
    {
     "data": {
      "text/plain": [
       "[0.0508,\n",
       " 0.0838,\n",
       " 0.1119,\n",
       " 0.1338,\n",
       " 0.1549,\n",
       " 0.1744,\n",
       " 0.1877,\n",
       " 0.2035,\n",
       " 0.2145,\n",
       " 0.2296,\n",
       " 0.2429,\n",
       " 0.2565,\n",
       " 0.2654,\n",
       " 0.2738,\n",
       " 0.2841,\n",
       " 0.2939,\n",
       " 0.3014,\n",
       " 0.3064,\n",
       " 0.3109,\n",
       " 0.3174,\n",
       " 0.3228,\n",
       " 0.3278,\n",
       " 0.3312,\n",
       " 0.3353,\n",
       " 0.34,\n",
       " 0.343,\n",
       " 0.3481,\n",
       " 0.3502,\n",
       " 0.3523,\n",
       " 0.354,\n",
       " 0.3574,\n",
       " 0.3588,\n",
       " 0.3624,\n",
       " 0.3658,\n",
       " 0.367,\n",
       " 0.3646,\n",
       " 0.3648,\n",
       " 0.3645,\n",
       " 0.3642,\n",
       " 0.3608,\n",
       " 0.3588,\n",
       " 0.3555,\n",
       " 0.3565,\n",
       " 0.3571,\n",
       " 0.3542,\n",
       " 0.3526,\n",
       " 0.3532,\n",
       " 0.3523,\n",
       " 0.35,\n",
       " 0.3474,\n",
       " 0.3436,\n",
       " 0.3406,\n",
       " 0.3376,\n",
       " 0.3315,\n",
       " 0.3277,\n",
       " 0.3237,\n",
       " 0.3202,\n",
       " 0.3163,\n",
       " 0.3116,\n",
       " 0.3087,\n",
       " 0.304,\n",
       " 0.2986,\n",
       " 0.2951,\n",
       " 0.2902,\n",
       " 0.2857,\n",
       " 0.2782,\n",
       " 0.2734,\n",
       " 0.2682,\n",
       " 0.2627,\n",
       " 0.2574,\n",
       " 0.2505,\n",
       " 0.243,\n",
       " 0.2357,\n",
       " 0.2296,\n",
       " 0.2226,\n",
       " 0.2155,\n",
       " 0.2071,\n",
       " 0.1984,\n",
       " 0.1911,\n",
       " 0.1842,\n",
       " 0.1738,\n",
       " 0.1645,\n",
       " 0.1561,\n",
       " 0.1489,\n",
       " 0.1411,\n",
       " 0.1333,\n",
       " 0.1241,\n",
       " 0.1161,\n",
       " 0.1062,\n",
       " 0.0978,\n",
       " 0.0877,\n",
       " 0.0789,\n",
       " 0.0696,\n",
       " 0.0583,\n",
       " 0.0488,\n",
       " 0.0376,\n",
       " 0.0283,\n",
       " 0.0191,\n",
       " 0.0096,\n",
       " 0.0]"
      ]
     },
     "execution_count": 198,
     "metadata": {},
     "output_type": "execute_result"
    }
   ],
   "source": [
    "results_10000sims = []\n",
    "for size in range(1,101):\n",
    "    results_10000sims.append(Princess_NP(size_testgroup=size, metric = \"prob_best\", sims = 10000))\n",
    "results_10000sims"
   ]
  },
  {
   "cell_type": "code",
   "execution_count": 204,
   "metadata": {},
   "outputs": [],
   "source": [
    "import matplotlib.pyplot as plt\n",
    "%matplotlib inline\n",
    "plt.style.use(\"seaborn\")"
   ]
  },
  {
   "cell_type": "code",
   "execution_count": 205,
   "metadata": {},
   "outputs": [
    {
     "data": {
      "image/png": "[encoded data removed]",
      "text/plain": [
       "<Figure size 864x432 with 1 Axes>"
      ]
     },
     "metadata": {},
     "output_type": "display_data"
    }
   ],
   "source": [
    "plt.figure (figsize = (12,6))\n",
    "plt.plot(range(1, 101), results_10000sims)\n",
    "plt.xlabel(\"Size of Testgroup\", fontsize = 15)\n",
    "plt.ylabel(\"Probability of selecting Prince Charming (quality = 100)\", fontsize = 13)\n",
    "plt.title(\"Prince Selection (Applicants = 100, sims = 10000)\", fontsize = 15)\n",
    "plt.show()"
   ]
  },
  {
   "cell_type": "markdown",
   "metadata": {},
   "source": [
    "#### 1000 Applicants"
   ]
  },
  {
   "cell_type": "code",
   "execution_count": 206,
   "metadata": {},
   "outputs": [],
   "source": [
    "results_50000sims = []\n",
    "for size in range(350,401):\n",
    "    results_50000sims.append(Princess_NP(sims = 50000, size_applicants=1000, size_testgroup=size, metric = \"prob_best\"))"
   ]
  },
  {
   "cell_type": "code",
   "execution_count": 207,
   "metadata": {
    "scrolled": false
   },
   "outputs": [
    {
     "data": {
      "image/png": "[encoded data removed]",
      "text/plain": [
       "<Figure size 576x396 with 1 Axes>"
      ]
     },
     "metadata": {},
     "output_type": "display_data"
    }
   ],
   "source": [
    "plt.plot(range(350,401), results_50000sims)\n",
    "plt.xlabel(\"Size of Testgroup\", fontsize = 15)\n",
    "plt.ylabel(\"Probability of selecting Prince Charming (quality = 1000)\", fontsize = 15)\n",
    "plt.title(\"Prince Selection (Applicants = 1000, sims = 50000)\", fontsize = 15)\n",
    "plt.show()"
   ]
  },
  {
   "cell_type": "code",
   "execution_count": 208,
   "metadata": {},
   "outputs": [
    {
     "data": {
      "text/plain": [
       "0.367"
      ]
     },
     "execution_count": 208,
     "metadata": {},
     "output_type": "execute_result"
    }
   ],
   "source": [
    "max_prob= round(max(results_50000sims),3)\n",
    "max_prob"
   ]
  },
  {
   "cell_type": "code",
   "execution_count": 209,
   "metadata": {},
   "outputs": [
    {
     "data": {
      "text/plain": [
       "14"
      ]
     },
     "execution_count": 209,
     "metadata": {},
     "output_type": "execute_result"
    }
   ],
   "source": [
    "np.array(results_50000sims).argmax()"
   ]
  },
  {
   "cell_type": "code",
   "execution_count": 210,
   "metadata": {},
   "outputs": [
    {
     "data": {
      "text/plain": [
       "0.364"
      ]
     },
     "execution_count": 210,
     "metadata": {},
     "output_type": "execute_result"
    }
   ],
   "source": [
    "testgroup_opt_size = (350+np.array(results_50000sims).argmax())/1000\n",
    "testgroup_opt_size"
   ]
  },
  {
   "cell_type": "code",
   "execution_count": 211,
   "metadata": {},
   "outputs": [
    {
     "name": "stdout",
     "output_type": "stream",
     "text": [
      "The optimal testgroup size is 36.4 % in order have\n",
      "the maximum probability of 36.7 % to select the best candidate!\n"
     ]
    }
   ],
   "source": [
    "print(\"\"\"The optimal testgroup size is {} % in order have\n",
    "the maximum probability of {} % to select the best candidate!\"\"\".format(testgroup_opt_size*100, max_prob*100))"
   ]
  },
  {
   "cell_type": "markdown",
   "metadata": {},
   "source": [
    "#### Mathematical Solution: the 1/e law of best choice "
   ]
  },
  {
   "cell_type": "code",
   "execution_count": 212,
   "metadata": {},
   "outputs": [],
   "source": [
    "one_div_e = round(1/np.exp(1),3)"
   ]
  },
  {
   "cell_type": "code",
   "execution_count": 213,
   "metadata": {},
   "outputs": [
    {
     "data": {
      "text/plain": [
       "0.368"
      ]
     },
     "execution_count": 213,
     "metadata": {},
     "output_type": "execute_result"
    }
   ],
   "source": [
    "one_div_e"
   ]
  },
  {
   "cell_type": "code",
   "execution_count": 214,
   "metadata": {},
   "outputs": [
    {
     "name": "stdout",
     "output_type": "stream",
     "text": [
      "The mathematically optimal testgroup size is 36.8 % in order have\n",
      "the maximum probability of 36.8 % to select the best candidate!\n"
     ]
    }
   ],
   "source": [
    "print(\"\"\"The mathematically optimal testgroup size is {} % in order have\n",
    "the maximum probability of {} % to select the best candidate!\"\"\".format(one_div_e*100, one_div_e*100))"
   ]
  },
  {
   "cell_type": "markdown",
   "metadata": {},
   "source": [
    "### Maximizing Average Quality"
   ]
  },
  {
   "cell_type": "code",
   "execution_count": 215,
   "metadata": {},
   "outputs": [],
   "source": [
    "average_10000sims = []\n",
    "for size in range(1,101):\n",
    "    average_10000sims.append(Princess_NP(size_testgroup=size, metric = \"average\", sims = 10000))"
   ]
  },
  {
   "cell_type": "code",
   "execution_count": 216,
   "metadata": {
    "scrolled": false
   },
   "outputs": [
    {
     "data": {
      "image/png": "[encoded data removed]",
      "text/plain": [
       "<Figure size 864x432 with 1 Axes>"
      ]
     },
     "metadata": {},
     "output_type": "display_data"
    }
   ],
   "source": [
    "plt.figure (figsize = (12,6))\n",
    "plt.plot(range(1,101), average_10000sims)\n",
    "plt.xlabel(\"Size of Testgroup\", fontsize = 15)\n",
    "plt.ylabel(\"Average Quality of selected Princes\", fontsize = 15)\n",
    "plt.title(\"Prince Selection (Applicants = 100, sims = 10000)\", fontsize = 15)\n",
    "plt.show()"
   ]
  },
  {
   "cell_type": "code",
   "execution_count": 217,
   "metadata": {},
   "outputs": [],
   "source": [
    "average_50000sims = []\n",
    "for size in range(1,11):\n",
    "    average_50000sims.append(Princess_NP(size_testgroup=size, metric = \"average\", sims = 50000))"
   ]
  },
  {
   "cell_type": "code",
   "execution_count": 218,
   "metadata": {},
   "outputs": [
    {
     "data": {
      "image/png": "[encoded data removed]",
      "text/plain": [
       "<Figure size 576x396 with 1 Axes>"
      ]
     },
     "metadata": {},
     "output_type": "display_data"
    }
   ],
   "source": [
    "plt.plot(range(1,11), average_50000sims)\n",
    "plt.xlabel(\"Size of Testgroup\", fontsize = 15)\n",
    "plt.ylabel(\"Average Qualitiy of selected Princes\", fontsize = 15)\n",
    "plt.title(\"Prince Selection (Applicants = 100, sims = 50000)\", fontsize = 15)\n",
    "plt.show()"
   ]
  },
  {
   "cell_type": "code",
   "execution_count": 219,
   "metadata": {},
   "outputs": [
    {
     "data": {
      "text/plain": [
       "[74.72,\n",
       " 82.10178,\n",
       " 85.3292,\n",
       " 86.8507,\n",
       " 87.5935,\n",
       " 87.83006,\n",
       " 87.722,\n",
       " 87.45266,\n",
       " 86.9956,\n",
       " 86.3431]"
      ]
     },
     "execution_count": 219,
     "metadata": {},
     "output_type": "execute_result"
    }
   ],
   "source": [
    "average_50000sims"
   ]
  },
  {
   "cell_type": "code",
   "execution_count": 220,
   "metadata": {},
   "outputs": [
    {
     "data": {
      "text/plain": [
       "87.8"
      ]
     },
     "execution_count": 220,
     "metadata": {},
     "output_type": "execute_result"
    }
   ],
   "source": [
    "max_average = round(max(average_50000sims),1)\n",
    "max_average"
   ]
  },
  {
   "cell_type": "code",
   "execution_count": 221,
   "metadata": {},
   "outputs": [
    {
     "name": "stdout",
     "output_type": "stream",
     "text": [
      "The optimal testgroup size is 6 in order have the maximum average/expected quality of 87.8!\n"
     ]
    }
   ],
   "source": [
    "print(\"\"\"The optimal testgroup size is {} in order have the maximum average/expected quality of {}!\"\"\".format(6, max_average))"
   ]
  },
  {
   "cell_type": "code",
   "execution_count": 222,
   "metadata": {},
   "outputs": [],
   "source": [
    "results = Princess_NP(size_applicants=100, size_testgroup=6, sims = 100000, metric = \"results\")"
   ]
  },
  {
   "cell_type": "code",
   "execution_count": 223,
   "metadata": {},
   "outputs": [
    {
     "data": {
      "image/png": "[encoded data removed]",
      "text/plain": [
       "<Figure size 576x396 with 1 Axes>"
      ]
     },
     "metadata": {},
     "output_type": "display_data"
    }
   ],
   "source": [
    "plt.hist(results, bins = 101)\n",
    "plt.xlabel(\"Quality of selected Prince (100 is best)\", fontsize = 15)\n",
    "plt.ylabel(\"Frequency\", fontsize = 15)\n",
    "plt.title(\"Prince Selection Frequency Distribution (Applicants = 100, Testgroup = 6, sims = 100000)\", fontsize = 15)\n",
    "plt.show()"
   ]
  },
  {
   "cell_type": "markdown",
   "metadata": {},
   "source": [
    "## 7. Changing Strategies, n_best = n"
   ]
  },
  {
   "cell_type": "markdown",
   "metadata": {},
   "source": [
    "### maximizing probability to find Prince Charming"
   ]
  },
  {
   "cell_type": "code",
   "execution_count": 224,
   "metadata": {},
   "outputs": [],
   "source": [
    "n_best = [1, 2, 3, 5, 10 ,25, 50, 75, 90]"
   ]
  },
  {
   "cell_type": "code",
   "execution_count": 225,
   "metadata": {},
   "outputs": [],
   "source": [
    "results = []\n",
    "\n",
    "for best in n_best:\n",
    "    l = []\n",
    "    for size in range(best, 101):\n",
    "        l.append(Princess_NP(size_testgroup=size, n_best=best, metric = \"prob_best\", sims =10000))\n",
    "    results.append(l)"
   ]
  },
  {
   "cell_type": "code",
   "execution_count": 226,
   "metadata": {
    "scrolled": true
   },
   "outputs": [
    {
     "data": {
      "text/plain": [
       "[[0.0508,\n",
       "  0.0838,\n",
       "  0.1119,\n",
       "  0.1338,\n",
       "  0.1549,\n",
       "  0.1744,\n",
       "  0.1877,\n",
       "  0.2035,\n",
       "  0.2145,\n",
       "  0.2296,\n",
       "  0.2429,\n",
       "  0.2565,\n",
       "  0.2654,\n",
       "  0.2738,\n",
       "  0.2841,\n",
       "  0.2939,\n",
       "  0.3014,\n",
       "  0.3064,\n",
       "  0.3109,\n",
       "  0.3174,\n",
       "  0.3228,\n",
       "  0.3278,\n",
       "  0.3312,\n",
       "  0.3353,\n",
       "  0.34,\n",
       "  0.343,\n",
       "  0.3481,\n",
       "  0.3502,\n",
       "  0.3523,\n",
       "  0.354,\n",
       "  0.3574,\n",
       "  0.3588,\n",
       "  0.3624,\n",
       "  0.3658,\n",
       "  0.367,\n",
       "  0.3646,\n",
       "  0.3648,\n",
       "  0.3645,\n",
       "  0.3642,\n",
       "  0.3608,\n",
       "  0.3588,\n",
       "  0.3555,\n",
       "  0.3565,\n",
       "  0.3571,\n",
       "  0.3542,\n",
       "  0.3526,\n",
       "  0.3532,\n",
       "  0.3523,\n",
       "  0.35,\n",
       "  0.3474,\n",
       "  0.3436,\n",
       "  0.3406,\n",
       "  0.3376,\n",
       "  0.3315,\n",
       "  0.3277,\n",
       "  0.3237,\n",
       "  0.3202,\n",
       "  0.3163,\n",
       "  0.3116,\n",
       "  0.3087,\n",
       "  0.304,\n",
       "  0.2986,\n",
       "  0.2951,\n",
       "  0.2902,\n",
       "  0.2857,\n",
       "  0.2782,\n",
       "  0.2734,\n",
       "  0.2682,\n",
       "  0.2627,\n",
       "  0.2574,\n",
       "  0.2505,\n",
       "  0.243,\n",
       "  0.2357,\n",
       "  0.2296,\n",
       "  0.2226,\n",
       "  0.2155,\n",
       "  0.2071,\n",
       "  0.1984,\n",
       "  0.1911,\n",
       "  0.1842,\n",
       "  0.1738,\n",
       "  0.1645,\n",
       "  0.1561,\n",
       "  0.1489,\n",
       "  0.1411,\n",
       "  0.1333,\n",
       "  0.1241,\n",
       "  0.1161,\n",
       "  0.1062,\n",
       "  0.0978,\n",
       "  0.0877,\n",
       "  0.0789,\n",
       "  0.0696,\n",
       "  0.0583,\n",
       "  0.0488,\n",
       "  0.0376,\n",
       "  0.0283,\n",
       "  0.0191,\n",
       "  0.0096,\n",
       "  0.0],\n",
       " [0.0199,\n",
       "  0.0295,\n",
       "  0.039,\n",
       "  0.0484,\n",
       "  0.0577,\n",
       "  0.0655,\n",
       "  0.0726,\n",
       "  0.0797,\n",
       "  0.0886,\n",
       "  0.0964,\n",
       "  0.106,\n",
       "  0.114,\n",
       "  0.1186,\n",
       "  0.1279,\n",
       "  0.1352,\n",
       "  0.1402,\n",
       "  0.1455,\n",
       "  0.1513,\n",
       "  0.158,\n",
       "  0.1638,\n",
       "  0.1697,\n",
       "  0.1732,\n",
       "  0.1764,\n",
       "  0.1827,\n",
       "  0.1866,\n",
       "  0.1932,\n",
       "  0.1958,\n",
       "  0.2007,\n",
       "  0.2048,\n",
       "  0.2089,\n",
       "  0.2117,\n",
       "  0.2155,\n",
       "  0.2217,\n",
       "  0.2251,\n",
       "  0.226,\n",
       "  0.2287,\n",
       "  0.2301,\n",
       "  0.2325,\n",
       "  0.2319,\n",
       "  0.2314,\n",
       "  0.2326,\n",
       "  0.2356,\n",
       "  0.2382,\n",
       "  0.2379,\n",
       "  0.2395,\n",
       "  0.2427,\n",
       "  0.2449,\n",
       "  0.2447,\n",
       "  0.246,\n",
       "  0.2446,\n",
       "  0.244,\n",
       "  0.2452,\n",
       "  0.2432,\n",
       "  0.2421,\n",
       "  0.2424,\n",
       "  0.2418,\n",
       "  0.2412,\n",
       "  0.2411,\n",
       "  0.241,\n",
       "  0.2399,\n",
       "  0.2377,\n",
       "  0.2365,\n",
       "  0.2337,\n",
       "  0.2315,\n",
       "  0.2279,\n",
       "  0.2257,\n",
       "  0.2235,\n",
       "  0.2207,\n",
       "  0.2171,\n",
       "  0.2126,\n",
       "  0.2073,\n",
       "  0.2021,\n",
       "  0.1975,\n",
       "  0.1929,\n",
       "  0.1896,\n",
       "  0.1842,\n",
       "  0.1771,\n",
       "  0.171,\n",
       "  0.166,\n",
       "  0.1579,\n",
       "  0.1499,\n",
       "  0.1433,\n",
       "  0.1378,\n",
       "  0.1311,\n",
       "  0.1251,\n",
       "  0.1175,\n",
       "  0.1103,\n",
       "  0.1017,\n",
       "  0.0941,\n",
       "  0.0841,\n",
       "  0.0759,\n",
       "  0.0675,\n",
       "  0.0571,\n",
       "  0.048,\n",
       "  0.0369,\n",
       "  0.0277,\n",
       "  0.0189,\n",
       "  0.0096,\n",
       "  0.0],\n",
       " [0.0158,\n",
       "  0.0199,\n",
       "  0.0252,\n",
       "  0.0316,\n",
       "  0.0363,\n",
       "  0.039,\n",
       "  0.0438,\n",
       "  0.0486,\n",
       "  0.0546,\n",
       "  0.0597,\n",
       "  0.0629,\n",
       "  0.0644,\n",
       "  0.0716,\n",
       "  0.077,\n",
       "  0.0811,\n",
       "  0.0857,\n",
       "  0.0897,\n",
       "  0.0949,\n",
       "  0.0992,\n",
       "  0.1033,\n",
       "  0.1059,\n",
       "  0.1081,\n",
       "  0.1128,\n",
       "  0.1148,\n",
       "  0.1225,\n",
       "  0.1254,\n",
       "  0.1299,\n",
       "  0.1324,\n",
       "  0.136,\n",
       "  0.1402,\n",
       "  0.1434,\n",
       "  0.1502,\n",
       "  0.1528,\n",
       "  0.154,\n",
       "  0.1568,\n",
       "  0.1587,\n",
       "  0.1621,\n",
       "  0.1611,\n",
       "  0.1618,\n",
       "  0.1629,\n",
       "  0.1686,\n",
       "  0.1717,\n",
       "  0.1722,\n",
       "  0.1736,\n",
       "  0.177,\n",
       "  0.1794,\n",
       "  0.1809,\n",
       "  0.1833,\n",
       "  0.1842,\n",
       "  0.1856,\n",
       "  0.1885,\n",
       "  0.1868,\n",
       "  0.1862,\n",
       "  0.1883,\n",
       "  0.1888,\n",
       "  0.1897,\n",
       "  0.192,\n",
       "  0.1918,\n",
       "  0.1924,\n",
       "  0.1918,\n",
       "  0.1921,\n",
       "  0.1914,\n",
       "  0.1909,\n",
       "  0.1882,\n",
       "  0.1877,\n",
       "  0.1869,\n",
       "  0.1854,\n",
       "  0.1846,\n",
       "  0.182,\n",
       "  0.1791,\n",
       "  0.1753,\n",
       "  0.1731,\n",
       "  0.1709,\n",
       "  0.1684,\n",
       "  0.164,\n",
       "  0.1584,\n",
       "  0.154,\n",
       "  0.1505,\n",
       "  0.1439,\n",
       "  0.1375,\n",
       "  0.1326,\n",
       "  0.1279,\n",
       "  0.1228,\n",
       "  0.1177,\n",
       "  0.1109,\n",
       "  0.1042,\n",
       "  0.0967,\n",
       "  0.09,\n",
       "  0.0807,\n",
       "  0.0729,\n",
       "  0.0655,\n",
       "  0.0554,\n",
       "  0.0466,\n",
       "  0.0362,\n",
       "  0.0275,\n",
       "  0.0189,\n",
       "  0.0096,\n",
       "  0.0],\n",
       " [0.0126,\n",
       "  0.0158,\n",
       "  0.0195,\n",
       "  0.0196,\n",
       "  0.0229,\n",
       "  0.0247,\n",
       "  0.0282,\n",
       "  0.0325,\n",
       "  0.0338,\n",
       "  0.0323,\n",
       "  0.0369,\n",
       "  0.0408,\n",
       "  0.0416,\n",
       "  0.0438,\n",
       "  0.0461,\n",
       "  0.0484,\n",
       "  0.052,\n",
       "  0.0553,\n",
       "  0.0571,\n",
       "  0.0592,\n",
       "  0.0627,\n",
       "  0.0621,\n",
       "  0.0668,\n",
       "  0.0683,\n",
       "  0.0697,\n",
       "  0.0698,\n",
       "  0.0717,\n",
       "  0.0733,\n",
       "  0.0757,\n",
       "  0.0807,\n",
       "  0.0815,\n",
       "  0.0824,\n",
       "  0.084,\n",
       "  0.0862,\n",
       "  0.0891,\n",
       "  0.0866,\n",
       "  0.0889,\n",
       "  0.091,\n",
       "  0.0957,\n",
       "  0.0989,\n",
       "  0.1,\n",
       "  0.1027,\n",
       "  0.1068,\n",
       "  0.1103,\n",
       "  0.1133,\n",
       "  0.1154,\n",
       "  0.1157,\n",
       "  0.1164,\n",
       "  0.1189,\n",
       "  0.1184,\n",
       "  0.1192,\n",
       "  0.1226,\n",
       "  0.1234,\n",
       "  0.1253,\n",
       "  0.1292,\n",
       "  0.1309,\n",
       "  0.1328,\n",
       "  0.1322,\n",
       "  0.1337,\n",
       "  0.1346,\n",
       "  0.1372,\n",
       "  0.1361,\n",
       "  0.1371,\n",
       "  0.1388,\n",
       "  0.1391,\n",
       "  0.1396,\n",
       "  0.1389,\n",
       "  0.1376,\n",
       "  0.1356,\n",
       "  0.1357,\n",
       "  0.1363,\n",
       "  0.1347,\n",
       "  0.132,\n",
       "  0.1288,\n",
       "  0.1268,\n",
       "  0.1255,\n",
       "  0.1218,\n",
       "  0.117,\n",
       "  0.1135,\n",
       "  0.1115,\n",
       "  0.109,\n",
       "  0.105,\n",
       "  0.0996,\n",
       "  0.0942,\n",
       "  0.0885,\n",
       "  0.0832,\n",
       "  0.0752,\n",
       "  0.0682,\n",
       "  0.0619,\n",
       "  0.0531,\n",
       "  0.0451,\n",
       "  0.0355,\n",
       "  0.0273,\n",
       "  0.0189,\n",
       "  0.0096,\n",
       "  0.0],\n",
       " [0.011,\n",
       "  0.0116,\n",
       "  0.0137,\n",
       "  0.0161,\n",
       "  0.0154,\n",
       "  0.0173,\n",
       "  0.0199,\n",
       "  0.0196,\n",
       "  0.0204,\n",
       "  0.0213,\n",
       "  0.0219,\n",
       "  0.0236,\n",
       "  0.0254,\n",
       "  0.0257,\n",
       "  0.026,\n",
       "  0.0277,\n",
       "  0.0271,\n",
       "  0.0322,\n",
       "  0.0311,\n",
       "  0.0315,\n",
       "  0.0314,\n",
       "  0.0328,\n",
       "  0.0334,\n",
       "  0.036,\n",
       "  0.0395,\n",
       "  0.0398,\n",
       "  0.0409,\n",
       "  0.041,\n",
       "  0.0425,\n",
       "  0.0449,\n",
       "  0.0431,\n",
       "  0.0433,\n",
       "  0.0429,\n",
       "  0.0442,\n",
       "  0.0457,\n",
       "  0.0463,\n",
       "  0.0473,\n",
       "  0.0513,\n",
       "  0.0517,\n",
       "  0.053,\n",
       "  0.0553,\n",
       "  0.0541,\n",
       "  0.0552,\n",
       "  0.0567,\n",
       "  0.0554,\n",
       "  0.0541,\n",
       "  0.0576,\n",
       "  0.0571,\n",
       "  0.0574,\n",
       "  0.0595,\n",
       "  0.0617,\n",
       "  0.063,\n",
       "  0.0636,\n",
       "  0.0642,\n",
       "  0.0669,\n",
       "  0.0695,\n",
       "  0.0691,\n",
       "  0.0705,\n",
       "  0.0726,\n",
       "  0.0744,\n",
       "  0.0768,\n",
       "  0.0777,\n",
       "  0.0772,\n",
       "  0.0777,\n",
       "  0.0796,\n",
       "  0.081,\n",
       "  0.0813,\n",
       "  0.0808,\n",
       "  0.0797,\n",
       "  0.0808,\n",
       "  0.0809,\n",
       "  0.081,\n",
       "  0.0778,\n",
       "  0.0766,\n",
       "  0.0771,\n",
       "  0.0771,\n",
       "  0.0759,\n",
       "  0.0747,\n",
       "  0.0726,\n",
       "  0.0708,\n",
       "  0.0683,\n",
       "  0.0639,\n",
       "  0.0589,\n",
       "  0.055,\n",
       "  0.0474,\n",
       "  0.0408,\n",
       "  0.0325,\n",
       "  0.0256,\n",
       "  0.0184,\n",
       "  0.0096,\n",
       "  0.0],\n",
       " [0.0121,\n",
       "  0.0088,\n",
       "  0.013,\n",
       "  0.0115,\n",
       "  0.0121,\n",
       "  0.0112,\n",
       "  0.0124,\n",
       "  0.0118,\n",
       "  0.0122,\n",
       "  0.0133,\n",
       "  0.0148,\n",
       "  0.0153,\n",
       "  0.0143,\n",
       "  0.0152,\n",
       "  0.02,\n",
       "  0.0176,\n",
       "  0.0184,\n",
       "  0.0164,\n",
       "  0.0171,\n",
       "  0.0195,\n",
       "  0.0174,\n",
       "  0.0178,\n",
       "  0.0202,\n",
       "  0.0201,\n",
       "  0.0207,\n",
       "  0.0214,\n",
       "  0.0205,\n",
       "  0.0206,\n",
       "  0.0251,\n",
       "  0.0223,\n",
       "  0.0214,\n",
       "  0.0227,\n",
       "  0.0219,\n",
       "  0.0225,\n",
       "  0.022,\n",
       "  0.0241,\n",
       "  0.0243,\n",
       "  0.0229,\n",
       "  0.024,\n",
       "  0.0243,\n",
       "  0.0265,\n",
       "  0.0244,\n",
       "  0.0258,\n",
       "  0.0256,\n",
       "  0.0285,\n",
       "  0.0285,\n",
       "  0.031,\n",
       "  0.0308,\n",
       "  0.0304,\n",
       "  0.0322,\n",
       "  0.0331,\n",
       "  0.0342,\n",
       "  0.0341,\n",
       "  0.034,\n",
       "  0.0344,\n",
       "  0.0361,\n",
       "  0.0349,\n",
       "  0.0339,\n",
       "  0.0327,\n",
       "  0.0335,\n",
       "  0.0336,\n",
       "  0.0344,\n",
       "  0.0343,\n",
       "  0.0366,\n",
       "  0.0379,\n",
       "  0.0398,\n",
       "  0.0393,\n",
       "  0.0381,\n",
       "  0.0367,\n",
       "  0.0327,\n",
       "  0.0307,\n",
       "  0.0259,\n",
       "  0.022,\n",
       "  0.0162,\n",
       "  0.0096,\n",
       "  0.0],\n",
       " [0.0106,\n",
       "  0.0097,\n",
       "  0.0107,\n",
       "  0.0139,\n",
       "  0.0114,\n",
       "  0.0089,\n",
       "  0.0117,\n",
       "  0.0108,\n",
       "  0.0113,\n",
       "  0.0107,\n",
       "  0.0121,\n",
       "  0.0122,\n",
       "  0.0115,\n",
       "  0.012,\n",
       "  0.0118,\n",
       "  0.0135,\n",
       "  0.0115,\n",
       "  0.0135,\n",
       "  0.0119,\n",
       "  0.0141,\n",
       "  0.015,\n",
       "  0.0158,\n",
       "  0.0154,\n",
       "  0.0154,\n",
       "  0.0171,\n",
       "  0.0157,\n",
       "  0.0165,\n",
       "  0.0176,\n",
       "  0.0158,\n",
       "  0.0158,\n",
       "  0.0196,\n",
       "  0.0179,\n",
       "  0.0177,\n",
       "  0.0162,\n",
       "  0.017,\n",
       "  0.0174,\n",
       "  0.0181,\n",
       "  0.0166,\n",
       "  0.0189,\n",
       "  0.0179,\n",
       "  0.0205,\n",
       "  0.0197,\n",
       "  0.0213,\n",
       "  0.0221,\n",
       "  0.0203,\n",
       "  0.0196,\n",
       "  0.017,\n",
       "  0.0168,\n",
       "  0.0141,\n",
       "  0.0096,\n",
       "  0.0],\n",
       " [0.0104,\n",
       "  0.0109,\n",
       "  0.0114,\n",
       "  0.0101,\n",
       "  0.0097,\n",
       "  0.0134,\n",
       "  0.0122,\n",
       "  0.0112,\n",
       "  0.0097,\n",
       "  0.0105,\n",
       "  0.0109,\n",
       "  0.013,\n",
       "  0.0111,\n",
       "  0.0122,\n",
       "  0.0117,\n",
       "  0.0136,\n",
       "  0.0132,\n",
       "  0.0137,\n",
       "  0.0147,\n",
       "  0.0138,\n",
       "  0.0141,\n",
       "  0.0119,\n",
       "  0.0126,\n",
       "  0.012,\n",
       "  0.0096,\n",
       "  0.0],\n",
       " [0.011,\n",
       "  0.0105,\n",
       "  0.0111,\n",
       "  0.0125,\n",
       "  0.0113,\n",
       "  0.0124,\n",
       "  0.0101,\n",
       "  0.0105,\n",
       "  0.0106,\n",
       "  0.0096,\n",
       "  0.0]]"
      ]
     },
     "execution_count": 226,
     "metadata": {},
     "output_type": "execute_result"
    }
   ],
   "source": [
    "results"
   ]
  },
  {
   "cell_type": "code",
   "execution_count": 229,
   "metadata": {},
   "outputs": [],
   "source": [
    "import matplotlib.pyplot as plt\n",
    "%matplotlib inline\n",
    "plt.style.use(\"seaborn\")"
   ]
  },
  {
   "cell_type": "code",
   "execution_count": 230,
   "metadata": {
    "scrolled": false
   },
   "outputs": [
    {
     "data": {
      "image/png": "[encoded data removed]",
      "text/plain": [
       "<Figure size 576x396 with 1 Axes>"
      ]
     },
     "metadata": {},
     "output_type": "display_data"
    }
   ],
   "source": [
    "count = 0\n",
    "for best in n_best:\n",
    "    plt.plot(range(best, 101), results[count], label = \"n_best = {}\".format(best))\n",
    "    count +=1\n",
    "plt.legend(loc = \"upper right\", fontsize = 13) \n",
    "plt.xlabel(\"Size of Testgroup\", fontsize = 13)\n",
    "plt.ylabel(\"Probability of Selecting Prince Charming\", fontsize = 13)\n",
    "plt.title(\"Princess Challenge\", fontsize = 15)\n",
    "plt.show()"
   ]
  },
  {
   "cell_type": "markdown",
   "metadata": {},
   "source": [
    "### Maximizing Average Quality"
   ]
  },
  {
   "cell_type": "markdown",
   "metadata": {},
   "source": [
    "#### 100 Applicants"
   ]
  },
  {
   "cell_type": "code",
   "execution_count": 231,
   "metadata": {},
   "outputs": [],
   "source": [
    "n_best = [1, 2, 3, 5, 10 ,25, 50, 75, 90]"
   ]
  },
  {
   "cell_type": "code",
   "execution_count": 232,
   "metadata": {},
   "outputs": [],
   "source": [
    "results = []\n",
    "\n",
    "for best in n_best:\n",
    "    l = []\n",
    "    for size in range(best, 101):\n",
    "         l.append(Princess_NP(size_testgroup=size, n_best=best, metric = \"average\", sims = 10000))\n",
    "    results.append(l)"
   ]
  },
  {
   "cell_type": "code",
   "execution_count": 233,
   "metadata": {},
   "outputs": [
    {
     "data": {
      "image/png": "[encoded data removed]",
      "text/plain": [
       "<Figure size 576x396 with 1 Axes>"
      ]
     },
     "metadata": {},
     "output_type": "display_data"
    }
   ],
   "source": [
    "count = 0\n",
    "for best in n_best:\n",
    "    plt.plot(range(best, 101), results[count], label = \"n_best = {}\".format(best))\n",
    "    count +=1\n",
    "plt.legend(loc = \"lower left\", fontsize = 13) \n",
    "plt.xlabel(\"Size of Testgroup\", fontsize = 13)\n",
    "plt.ylabel(\"Average Quality\", fontsize = 13)\n",
    "plt.title(\"Princess Challenge\", fontsize = 15)\n",
    "plt.show()"
   ]
  },
  {
   "cell_type": "code",
   "execution_count": 234,
   "metadata": {},
   "outputs": [],
   "source": [
    "n_best = np.arange(2,11)"
   ]
  },
  {
   "cell_type": "code",
   "execution_count": 235,
   "metadata": {},
   "outputs": [],
   "source": [
    "test_group_sizes = np.arange(15,71)"
   ]
  },
  {
   "cell_type": "code",
   "execution_count": 236,
   "metadata": {},
   "outputs": [],
   "source": [
    "combs = []\n",
    "for best in n_best:\n",
    "    for size in range(max(best,test_group_sizes[0]) , test_group_sizes[-1]):\n",
    "        combs.append([best, size])"
   ]
  },
  {
   "cell_type": "code",
   "execution_count": 237,
   "metadata": {},
   "outputs": [
    {
     "data": {
      "text/plain": [
       "[[2, 15],\n",
       " [2, 16],\n",
       " [2, 17],\n",
       " [2, 18],\n",
       " [2, 19],\n",
       " [2, 20],\n",
       " [2, 21],\n",
       " [2, 22],\n",
       " [2, 23],\n",
       " [2, 24],\n",
       " [2, 25],\n",
       " [2, 26],\n",
       " [2, 27],\n",
       " [2, 28],\n",
       " [2, 29],\n",
       " [2, 30],\n",
       " [2, 31],\n",
       " [2, 32],\n",
       " [2, 33],\n",
       " [2, 34],\n",
       " [2, 35],\n",
       " [2, 36],\n",
       " [2, 37],\n",
       " [2, 38],\n",
       " [2, 39],\n",
       " [2, 40],\n",
       " [2, 41],\n",
       " [2, 42],\n",
       " [2, 43],\n",
       " [2, 44],\n",
       " [2, 45],\n",
       " [2, 46],\n",
       " [2, 47],\n",
       " [2, 48],\n",
       " [2, 49],\n",
       " [2, 50],\n",
       " [2, 51],\n",
       " [2, 52],\n",
       " [2, 53],\n",
       " [2, 54],\n",
       " [2, 55],\n",
       " [2, 56],\n",
       " [2, 57],\n",
       " [2, 58],\n",
       " [2, 59],\n",
       " [2, 60],\n",
       " [2, 61],\n",
       " [2, 62],\n",
       " [2, 63],\n",
       " [2, 64],\n",
       " [2, 65],\n",
       " [2, 66],\n",
       " [2, 67],\n",
       " [2, 68],\n",
       " [2, 69],\n",
       " [3, 15],\n",
       " [3, 16],\n",
       " [3, 17],\n",
       " [3, 18],\n",
       " [3, 19],\n",
       " [3, 20],\n",
       " [3, 21],\n",
       " [3, 22],\n",
       " [3, 23],\n",
       " [3, 24],\n",
       " [3, 25],\n",
       " [3, 26],\n",
       " [3, 27],\n",
       " [3, 28],\n",
       " [3, 29],\n",
       " [3, 30],\n",
       " [3, 31],\n",
       " [3, 32],\n",
       " [3, 33],\n",
       " [3, 34],\n",
       " [3, 35],\n",
       " [3, 36],\n",
       " [3, 37],\n",
       " [3, 38],\n",
       " [3, 39],\n",
       " [3, 40],\n",
       " [3, 41],\n",
       " [3, 42],\n",
       " [3, 43],\n",
       " [3, 44],\n",
       " [3, 45],\n",
       " [3, 46],\n",
       " [3, 47],\n",
       " [3, 48],\n",
       " [3, 49],\n",
       " [3, 50],\n",
       " [3, 51],\n",
       " [3, 52],\n",
       " [3, 53],\n",
       " [3, 54],\n",
       " [3, 55],\n",
       " [3, 56],\n",
       " [3, 57],\n",
       " [3, 58],\n",
       " [3, 59],\n",
       " [3, 60],\n",
       " [3, 61],\n",
       " [3, 62],\n",
       " [3, 63],\n",
       " [3, 64],\n",
       " [3, 65],\n",
       " [3, 66],\n",
       " [3, 67],\n",
       " [3, 68],\n",
       " [3, 69],\n",
       " [4, 15],\n",
       " [4, 16],\n",
       " [4, 17],\n",
       " [4, 18],\n",
       " [4, 19],\n",
       " [4, 20],\n",
       " [4, 21],\n",
       " [4, 22],\n",
       " [4, 23],\n",
       " [4, 24],\n",
       " [4, 25],\n",
       " [4, 26],\n",
       " [4, 27],\n",
       " [4, 28],\n",
       " [4, 29],\n",
       " [4, 30],\n",
       " [4, 31],\n",
       " [4, 32],\n",
       " [4, 33],\n",
       " [4, 34],\n",
       " [4, 35],\n",
       " [4, 36],\n",
       " [4, 37],\n",
       " [4, 38],\n",
       " [4, 39],\n",
       " [4, 40],\n",
       " [4, 41],\n",
       " [4, 42],\n",
       " [4, 43],\n",
       " [4, 44],\n",
       " [4, 45],\n",
       " [4, 46],\n",
       " [4, 47],\n",
       " [4, 48],\n",
       " [4, 49],\n",
       " [4, 50],\n",
       " [4, 51],\n",
       " [4, 52],\n",
       " [4, 53],\n",
       " [4, 54],\n",
       " [4, 55],\n",
       " [4, 56],\n",
       " [4, 57],\n",
       " [4, 58],\n",
       " [4, 59],\n",
       " [4, 60],\n",
       " [4, 61],\n",
       " [4, 62],\n",
       " [4, 63],\n",
       " [4, 64],\n",
       " [4, 65],\n",
       " [4, 66],\n",
       " [4, 67],\n",
       " [4, 68],\n",
       " [4, 69],\n",
       " [5, 15],\n",
       " [5, 16],\n",
       " [5, 17],\n",
       " [5, 18],\n",
       " [5, 19],\n",
       " [5, 20],\n",
       " [5, 21],\n",
       " [5, 22],\n",
       " [5, 23],\n",
       " [5, 24],\n",
       " [5, 25],\n",
       " [5, 26],\n",
       " [5, 27],\n",
       " [5, 28],\n",
       " [5, 29],\n",
       " [5, 30],\n",
       " [5, 31],\n",
       " [5, 32],\n",
       " [5, 33],\n",
       " [5, 34],\n",
       " [5, 35],\n",
       " [5, 36],\n",
       " [5, 37],\n",
       " [5, 38],\n",
       " [5, 39],\n",
       " [5, 40],\n",
       " [5, 41],\n",
       " [5, 42],\n",
       " [5, 43],\n",
       " [5, 44],\n",
       " [5, 45],\n",
       " [5, 46],\n",
       " [5, 47],\n",
       " [5, 48],\n",
       " [5, 49],\n",
       " [5, 50],\n",
       " [5, 51],\n",
       " [5, 52],\n",
       " [5, 53],\n",
       " [5, 54],\n",
       " [5, 55],\n",
       " [5, 56],\n",
       " [5, 57],\n",
       " [5, 58],\n",
       " [5, 59],\n",
       " [5, 60],\n",
       " [5, 61],\n",
       " [5, 62],\n",
       " [5, 63],\n",
       " [5, 64],\n",
       " [5, 65],\n",
       " [5, 66],\n",
       " [5, 67],\n",
       " [5, 68],\n",
       " [5, 69],\n",
       " [6, 15],\n",
       " [6, 16],\n",
       " [6, 17],\n",
       " [6, 18],\n",
       " [6, 19],\n",
       " [6, 20],\n",
       " [6, 21],\n",
       " [6, 22],\n",
       " [6, 23],\n",
       " [6, 24],\n",
       " [6, 25],\n",
       " [6, 26],\n",
       " [6, 27],\n",
       " [6, 28],\n",
       " [6, 29],\n",
       " [6, 30],\n",
       " [6, 31],\n",
       " [6, 32],\n",
       " [6, 33],\n",
       " [6, 34],\n",
       " [6, 35],\n",
       " [6, 36],\n",
       " [6, 37],\n",
       " [6, 38],\n",
       " [6, 39],\n",
       " [6, 40],\n",
       " [6, 41],\n",
       " [6, 42],\n",
       " [6, 43],\n",
       " [6, 44],\n",
       " [6, 45],\n",
       " [6, 46],\n",
       " [6, 47],\n",
       " [6, 48],\n",
       " [6, 49],\n",
       " [6, 50],\n",
       " [6, 51],\n",
       " [6, 52],\n",
       " [6, 53],\n",
       " [6, 54],\n",
       " [6, 55],\n",
       " [6, 56],\n",
       " [6, 57],\n",
       " [6, 58],\n",
       " [6, 59],\n",
       " [6, 60],\n",
       " [6, 61],\n",
       " [6, 62],\n",
       " [6, 63],\n",
       " [6, 64],\n",
       " [6, 65],\n",
       " [6, 66],\n",
       " [6, 67],\n",
       " [6, 68],\n",
       " [6, 69],\n",
       " [7, 15],\n",
       " [7, 16],\n",
       " [7, 17],\n",
       " [7, 18],\n",
       " [7, 19],\n",
       " [7, 20],\n",
       " [7, 21],\n",
       " [7, 22],\n",
       " [7, 23],\n",
       " [7, 24],\n",
       " [7, 25],\n",
       " [7, 26],\n",
       " [7, 27],\n",
       " [7, 28],\n",
       " [7, 29],\n",
       " [7, 30],\n",
       " [7, 31],\n",
       " [7, 32],\n",
       " [7, 33],\n",
       " [7, 34],\n",
       " [7, 35],\n",
       " [7, 36],\n",
       " [7, 37],\n",
       " [7, 38],\n",
       " [7, 39],\n",
       " [7, 40],\n",
       " [7, 41],\n",
       " [7, 42],\n",
       " [7, 43],\n",
       " [7, 44],\n",
       " [7, 45],\n",
       " [7, 46],\n",
       " [7, 47],\n",
       " [7, 48],\n",
       " [7, 49],\n",
       " [7, 50],\n",
       " [7, 51],\n",
       " [7, 52],\n",
       " [7, 53],\n",
       " [7, 54],\n",
       " [7, 55],\n",
       " [7, 56],\n",
       " [7, 57],\n",
       " [7, 58],\n",
       " [7, 59],\n",
       " [7, 60],\n",
       " [7, 61],\n",
       " [7, 62],\n",
       " [7, 63],\n",
       " [7, 64],\n",
       " [7, 65],\n",
       " [7, 66],\n",
       " [7, 67],\n",
       " [7, 68],\n",
       " [7, 69],\n",
       " [8, 15],\n",
       " [8, 16],\n",
       " [8, 17],\n",
       " [8, 18],\n",
       " [8, 19],\n",
       " [8, 20],\n",
       " [8, 21],\n",
       " [8, 22],\n",
       " [8, 23],\n",
       " [8, 24],\n",
       " [8, 25],\n",
       " [8, 26],\n",
       " [8, 27],\n",
       " [8, 28],\n",
       " [8, 29],\n",
       " [8, 30],\n",
       " [8, 31],\n",
       " [8, 32],\n",
       " [8, 33],\n",
       " [8, 34],\n",
       " [8, 35],\n",
       " [8, 36],\n",
       " [8, 37],\n",
       " [8, 38],\n",
       " [8, 39],\n",
       " [8, 40],\n",
       " [8, 41],\n",
       " [8, 42],\n",
       " [8, 43],\n",
       " [8, 44],\n",
       " [8, 45],\n",
       " [8, 46],\n",
       " [8, 47],\n",
       " [8, 48],\n",
       " [8, 49],\n",
       " [8, 50],\n",
       " [8, 51],\n",
       " [8, 52],\n",
       " [8, 53],\n",
       " [8, 54],\n",
       " [8, 55],\n",
       " [8, 56],\n",
       " [8, 57],\n",
       " [8, 58],\n",
       " [8, 59],\n",
       " [8, 60],\n",
       " [8, 61],\n",
       " [8, 62],\n",
       " [8, 63],\n",
       " [8, 64],\n",
       " [8, 65],\n",
       " [8, 66],\n",
       " [8, 67],\n",
       " [8, 68],\n",
       " [8, 69],\n",
       " [9, 15],\n",
       " [9, 16],\n",
       " [9, 17],\n",
       " [9, 18],\n",
       " [9, 19],\n",
       " [9, 20],\n",
       " [9, 21],\n",
       " [9, 22],\n",
       " [9, 23],\n",
       " [9, 24],\n",
       " [9, 25],\n",
       " [9, 26],\n",
       " [9, 27],\n",
       " [9, 28],\n",
       " [9, 29],\n",
       " [9, 30],\n",
       " [9, 31],\n",
       " [9, 32],\n",
       " [9, 33],\n",
       " [9, 34],\n",
       " [9, 35],\n",
       " [9, 36],\n",
       " [9, 37],\n",
       " [9, 38],\n",
       " [9, 39],\n",
       " [9, 40],\n",
       " [9, 41],\n",
       " [9, 42],\n",
       " [9, 43],\n",
       " [9, 44],\n",
       " [9, 45],\n",
       " [9, 46],\n",
       " [9, 47],\n",
       " [9, 48],\n",
       " [9, 49],\n",
       " [9, 50],\n",
       " [9, 51],\n",
       " [9, 52],\n",
       " [9, 53],\n",
       " [9, 54],\n",
       " [9, 55],\n",
       " [9, 56],\n",
       " [9, 57],\n",
       " [9, 58],\n",
       " [9, 59],\n",
       " [9, 60],\n",
       " [9, 61],\n",
       " [9, 62],\n",
       " [9, 63],\n",
       " [9, 64],\n",
       " [9, 65],\n",
       " [9, 66],\n",
       " [9, 67],\n",
       " [9, 68],\n",
       " [9, 69],\n",
       " [10, 15],\n",
       " [10, 16],\n",
       " [10, 17],\n",
       " [10, 18],\n",
       " [10, 19],\n",
       " [10, 20],\n",
       " [10, 21],\n",
       " [10, 22],\n",
       " [10, 23],\n",
       " [10, 24],\n",
       " [10, 25],\n",
       " [10, 26],\n",
       " [10, 27],\n",
       " [10, 28],\n",
       " [10, 29],\n",
       " [10, 30],\n",
       " [10, 31],\n",
       " [10, 32],\n",
       " [10, 33],\n",
       " [10, 34],\n",
       " [10, 35],\n",
       " [10, 36],\n",
       " [10, 37],\n",
       " [10, 38],\n",
       " [10, 39],\n",
       " [10, 40],\n",
       " [10, 41],\n",
       " [10, 42],\n",
       " [10, 43],\n",
       " [10, 44],\n",
       " [10, 45],\n",
       " [10, 46],\n",
       " [10, 47],\n",
       " [10, 48],\n",
       " [10, 49],\n",
       " [10, 50],\n",
       " [10, 51],\n",
       " [10, 52],\n",
       " [10, 53],\n",
       " [10, 54],\n",
       " [10, 55],\n",
       " [10, 56],\n",
       " [10, 57],\n",
       " [10, 58],\n",
       " [10, 59],\n",
       " [10, 60],\n",
       " [10, 61],\n",
       " [10, 62],\n",
       " [10, 63],\n",
       " [10, 64],\n",
       " [10, 65],\n",
       " [10, 66],\n",
       " [10, 67],\n",
       " [10, 68],\n",
       " [10, 69]]"
      ]
     },
     "execution_count": 237,
     "metadata": {},
     "output_type": "execute_result"
    }
   ],
   "source": [
    "combs"
   ]
  },
  {
   "cell_type": "code",
   "execution_count": 238,
   "metadata": {},
   "outputs": [
    {
     "data": {
      "text/plain": [
       "495"
      ]
     },
     "execution_count": 238,
     "metadata": {},
     "output_type": "execute_result"
    }
   ],
   "source": [
    "no_combs = len(np.array(combs))\n",
    "no_combs"
   ]
  },
  {
   "cell_type": "code",
   "execution_count": 239,
   "metadata": {},
   "outputs": [],
   "source": [
    "results=[]\n",
    "for comb in combs: \n",
    "    results.append(Princess_NP(size_testgroup= comb[1], n_best= comb[0], metric = \"average\", sims = 25000))"
   ]
  },
  {
   "cell_type": "code",
   "execution_count": 240,
   "metadata": {},
   "outputs": [
    {
     "data": {
      "text/plain": [
       "[92.47576,\n",
       " 92.499,\n",
       " 92.45796,\n",
       " 92.45208,\n",
       " 92.35736,\n",
       " 92.17916,\n",
       " 92.06752,\n",
       " 91.86864,\n",
       " 91.64008,\n",
       " 91.32304,\n",
       " 90.92732,\n",
       " 90.53756,\n",
       " 90.11892,\n",
       " 89.68908,\n",
       " 89.16312,\n",
       " 88.73748,\n",
       " 88.21148,\n",
       " 87.6888,\n",
       " 87.20136,\n",
       " 86.68672,\n",
       " 86.23096,\n",
       " 85.53848,\n",
       " 84.95676,\n",
       " 84.29512,\n",
       " 83.51404,\n",
       " 82.75036,\n",
       " 81.96416,\n",
       " 81.24316,\n",
       " 80.4414,\n",
       " 79.54192,\n",
       " 78.67368,\n",
       " 77.8304,\n",
       " 77.0086,\n",
       " 76.11524,\n",
       " 75.08872,\n",
       " 74.17112,\n",
       " 73.12356,\n",
       " 72.04904,\n",
       " 71.08716,\n",
       " 69.98888,\n",
       " 68.93064,\n",
       " 67.9126,\n",
       " 66.8528,\n",
       " 65.78196,\n",
       " 64.69848,\n",
       " 63.57112,\n",
       " 62.45804,\n",
       " 61.27896,\n",
       " 60.00628,\n",
       " 58.81244,\n",
       " 57.65896,\n",
       " 56.40564,\n",
       " 55.12296,\n",
       " 53.8704,\n",
       " 52.52456,\n",
       " 91.20404,\n",
       " 91.69048,\n",
       " 92.08416,\n",
       " 92.46368,\n",
       " 92.77664,\n",
       " 93.02712,\n",
       " 93.29708,\n",
       " 93.42648,\n",
       " 93.57924,\n",
       " 93.7012,\n",
       " 93.75564,\n",
       " 93.79416,\n",
       " 93.7566,\n",
       " 93.70668,\n",
       " 93.65892,\n",
       " 93.5764,\n",
       " 93.39684,\n",
       " 93.2064,\n",
       " 93.044,\n",
       " 92.89104,\n",
       " 92.72184,\n",
       " 92.4454,\n",
       " 92.20932,\n",
       " 91.88124,\n",
       " 91.53124,\n",
       " 91.19316,\n",
       " 90.85264,\n",
       " 90.45384,\n",
       " 89.9776,\n",
       " 89.49964,\n",
       " 89.03244,\n",
       " 88.54132,\n",
       " 88.05456,\n",
       " 87.42172,\n",
       " 86.69012,\n",
       " 86.03368,\n",
       " 85.26844,\n",
       " 84.46916,\n",
       " 83.77168,\n",
       " 82.9896,\n",
       " 82.08288,\n",
       " 81.20072,\n",
       " 80.30004,\n",
       " 79.42632,\n",
       " 78.47296,\n",
       " 77.4952,\n",
       " 76.4688,\n",
       " 75.42812,\n",
       " 74.22744,\n",
       " 73.08772,\n",
       " 71.97892,\n",
       " 70.75912,\n",
       " 69.44356,\n",
       " 68.09264,\n",
       " 66.58228,\n",
       " 88.34372,\n",
       " 89.0724,\n",
       " 89.733,\n",
       " 90.28988,\n",
       " 90.81564,\n",
       " 91.27764,\n",
       " 91.692,\n",
       " 92.0862,\n",
       " 92.43916,\n",
       " 92.72812,\n",
       " 92.99436,\n",
       " 93.19456,\n",
       " 93.36136,\n",
       " 93.496,\n",
       " 93.63656,\n",
       " 93.79068,\n",
       " 93.8766,\n",
       " 93.98344,\n",
       " 94.0546,\n",
       " 94.0994,\n",
       " 94.1432,\n",
       " 94.114,\n",
       " 94.10096,\n",
       " 94.0284,\n",
       " 93.897,\n",
       " 93.81156,\n",
       " 93.67752,\n",
       " 93.57292,\n",
       " 93.3624,\n",
       " 93.22076,\n",
       " 93.05784,\n",
       " 92.82568,\n",
       " 92.63848,\n",
       " 92.3068,\n",
       " 91.86704,\n",
       " 91.47244,\n",
       " 90.95672,\n",
       " 90.43836,\n",
       " 89.9998,\n",
       " 89.45928,\n",
       " 88.80352,\n",
       " 88.1702,\n",
       " 87.56412,\n",
       " 86.88256,\n",
       " 86.19964,\n",
       " 85.40044,\n",
       " 84.64912,\n",
       " 83.76852,\n",
       " 82.81404,\n",
       " 81.90964,\n",
       " 80.95556,\n",
       " 79.9178,\n",
       " 78.794,\n",
       " 77.6188,\n",
       " 76.32708,\n",
       " 85.1912,\n",
       " 86.15836,\n",
       " 86.96104,\n",
       " 87.67844,\n",
       " 88.33452,\n",
       " 88.971,\n",
       " 89.52612,\n",
       " 90.026,\n",
       " 90.50532,\n",
       " 90.89392,\n",
       " 91.25608,\n",
       " 91.6152,\n",
       " 91.90488,\n",
       " 92.14308,\n",
       " 92.3802,\n",
       " 92.6196,\n",
       " 92.83516,\n",
       " 93.023,\n",
       " 93.20336,\n",
       " 93.34784,\n",
       " 93.54752,\n",
       " 93.66872,\n",
       " 93.7904,\n",
       " 93.89888,\n",
       " 93.9354,\n",
       " 93.98264,\n",
       " 94.00268,\n",
       " 94.02908,\n",
       " 93.99284,\n",
       " 93.99772,\n",
       " 93.96756,\n",
       " 93.92612,\n",
       " 93.87412,\n",
       " 93.7732,\n",
       " 93.60024,\n",
       " 93.36752,\n",
       " 93.14348,\n",
       " 92.88708,\n",
       " 92.61968,\n",
       " 92.29536,\n",
       " 91.951,\n",
       " 91.575,\n",
       " 91.21032,\n",
       " 90.7916,\n",
       " 90.3326,\n",
       " 89.76104,\n",
       " 89.2334,\n",
       " 88.67252,\n",
       " 87.9884,\n",
       " 87.29616,\n",
       " 86.5706,\n",
       " 85.71916,\n",
       " 84.7906,\n",
       " 83.79908,\n",
       " 82.81952,\n",
       " 82.09512,\n",
       " 83.29864,\n",
       " 84.18452,\n",
       " 85.04604,\n",
       " 85.80964,\n",
       " 86.56108,\n",
       " 87.2548,\n",
       " 87.849,\n",
       " 88.43736,\n",
       " 88.91436,\n",
       " 89.3398,\n",
       " 89.78644,\n",
       " 90.21428,\n",
       " 90.5324,\n",
       " 90.8372,\n",
       " 91.1576,\n",
       " 91.47436,\n",
       " 91.73616,\n",
       " 91.99144,\n",
       " 92.21176,\n",
       " 92.46076,\n",
       " 92.68944,\n",
       " 92.89744,\n",
       " 93.09912,\n",
       " 93.237,\n",
       " 93.36944,\n",
       " 93.4546,\n",
       " 93.55928,\n",
       " 93.61488,\n",
       " 93.72296,\n",
       " 93.79108,\n",
       " 93.87904,\n",
       " 93.93224,\n",
       " 93.93916,\n",
       " 93.89844,\n",
       " 93.82416,\n",
       " 93.77744,\n",
       " 93.65992,\n",
       " 93.51428,\n",
       " 93.38364,\n",
       " 93.20712,\n",
       " 92.99172,\n",
       " 92.8094,\n",
       " 92.55824,\n",
       " 92.3164,\n",
       " 91.98648,\n",
       " 91.622,\n",
       " 91.22768,\n",
       " 90.73804,\n",
       " 90.22852,\n",
       " 89.68608,\n",
       " 89.03272,\n",
       " 88.32508,\n",
       " 87.59916,\n",
       " 86.77476,\n",
       " 78.96132,\n",
       " 80.322,\n",
       " 81.37816,\n",
       " 82.40804,\n",
       " 83.30088,\n",
       " 84.20024,\n",
       " 84.92784,\n",
       " 85.62188,\n",
       " 86.3148,\n",
       " 86.827,\n",
       " 87.32892,\n",
       " 87.84804,\n",
       " 88.3824,\n",
       " 88.7614,\n",
       " 89.11908,\n",
       " 89.52044,\n",
       " 89.91972,\n",
       " 90.23412,\n",
       " 90.5686,\n",
       " 90.82984,\n",
       " 91.16092,\n",
       " 91.42164,\n",
       " 91.68388,\n",
       " 91.91524,\n",
       " 92.10788,\n",
       " 92.30448,\n",
       " 92.43196,\n",
       " 92.5832,\n",
       " 92.7348,\n",
       " 92.913,\n",
       " 93.03216,\n",
       " 93.17572,\n",
       " 93.2992,\n",
       " 93.39592,\n",
       " 93.43312,\n",
       " 93.438,\n",
       " 93.49652,\n",
       " 93.48476,\n",
       " 93.48908,\n",
       " 93.44884,\n",
       " 93.40248,\n",
       " 93.3388,\n",
       " 93.27176,\n",
       " 93.18688,\n",
       " 93.07216,\n",
       " 92.87636,\n",
       " 92.69344,\n",
       " 92.48584,\n",
       " 92.17028,\n",
       " 91.86956,\n",
       " 91.45776,\n",
       " 90.95308,\n",
       " 90.414,\n",
       " 89.8414,\n",
       " 89.25716,\n",
       " 75.74052,\n",
       " 77.40912,\n",
       " 78.64424,\n",
       " 79.8712,\n",
       " 80.818,\n",
       " 81.74024,\n",
       " 82.58784,\n",
       " 83.41076,\n",
       " 84.19188,\n",
       " 84.79624,\n",
       " 85.3466,\n",
       " 85.95728,\n",
       " 86.54572,\n",
       " 86.94324,\n",
       " 87.38028,\n",
       " 87.87032,\n",
       " 88.3112,\n",
       " 88.67388,\n",
       " 89.05888,\n",
       " 89.38308,\n",
       " 89.784,\n",
       " 90.06528,\n",
       " 90.3796,\n",
       " 90.65884,\n",
       " 90.88892,\n",
       " 91.14132,\n",
       " 91.34072,\n",
       " 91.52948,\n",
       " 91.72812,\n",
       " 91.92564,\n",
       " 92.08736,\n",
       " 92.27944,\n",
       " 92.44888,\n",
       " 92.58868,\n",
       " 92.68096,\n",
       " 92.77916,\n",
       " 92.90772,\n",
       " 92.95524,\n",
       " 93.04528,\n",
       " 93.07528,\n",
       " 93.11088,\n",
       " 93.11756,\n",
       " 93.13928,\n",
       " 93.12228,\n",
       " 93.1252,\n",
       " 93.05844,\n",
       " 92.99012,\n",
       " 92.9044,\n",
       " 92.71864,\n",
       " 92.54476,\n",
       " 92.27732,\n",
       " 91.97184,\n",
       " 91.672,\n",
       " 91.29216,\n",
       " 90.8396,\n",
       " 72.57268,\n",
       " 74.44708,\n",
       " 75.86792,\n",
       " 77.2072,\n",
       " 78.27644,\n",
       " 79.41664,\n",
       " 80.30168,\n",
       " 81.22128,\n",
       " 82.1088,\n",
       " 82.77688,\n",
       " 83.392,\n",
       " 84.11732,\n",
       " 84.76524,\n",
       " 85.25316,\n",
       " 85.76496,\n",
       " 86.24676,\n",
       " 86.734,\n",
       " 87.17972,\n",
       " 87.59084,\n",
       " 87.96904,\n",
       " 88.38936,\n",
       " 88.75872,\n",
       " 89.0996,\n",
       " 89.42216,\n",
       " 89.71364,\n",
       " 90.021,\n",
       " 90.26948,\n",
       " 90.4406,\n",
       " 90.67488,\n",
       " 90.90116,\n",
       " 91.09132,\n",
       " 91.32844,\n",
       " 91.53424,\n",
       " 91.70788,\n",
       " 91.82076,\n",
       " 91.93804,\n",
       " 92.13116,\n",
       " 92.23252,\n",
       " 92.35184,\n",
       " 92.43672,\n",
       " 92.54036,\n",
       " 92.59564,\n",
       " 92.66812,\n",
       " 92.70292,\n",
       " 92.7686,\n",
       " 92.76396,\n",
       " 92.76272,\n",
       " 92.76108,\n",
       " 92.68204,\n",
       " 92.65184,\n",
       " 92.50136,\n",
       " 92.3246,\n",
       " 92.15076,\n",
       " 91.90368,\n",
       " 91.60796,\n",
       " 69.35152,\n",
       " 71.31188,\n",
       " 73.0284,\n",
       " 74.5546,\n",
       " 75.82464,\n",
       " 77.0432,\n",
       " 78.09096,\n",
       " 79.03712,\n",
       " 80.04176,\n",
       " 80.82692,\n",
       " 81.47904,\n",
       " 82.3004,\n",
       " 83.04488,\n",
       " 83.59032,\n",
       " 84.1426,\n",
       " 84.66144,\n",
       " 85.1822,\n",
       " 85.70468,\n",
       " 86.13184,\n",
       " 86.53536,\n",
       " 87.02796,\n",
       " 87.40616,\n",
       " 87.78316,\n",
       " 88.10148,\n",
       " 88.42784,\n",
       " 88.78156,\n",
       " 89.0892,\n",
       " 89.288,\n",
       " 89.52624,\n",
       " 89.77784,\n",
       " 90.01872,\n",
       " 90.2996,\n",
       " 90.53888,\n",
       " 90.75408,\n",
       " 90.8882,\n",
       " 91.0272,\n",
       " 91.25572,\n",
       " 91.40636,\n",
       " 91.56932,\n",
       " 91.67764,\n",
       " 91.8196,\n",
       " 91.93668,\n",
       " 92.02988,\n",
       " 92.12024,\n",
       " 92.20872,\n",
       " 92.25868,\n",
       " 92.3354,\n",
       " 92.369,\n",
       " 92.3672,\n",
       " 92.39488,\n",
       " 92.37372,\n",
       " 92.3102,\n",
       " 92.22292,\n",
       " 92.09392,\n",
       " 91.89496]"
      ]
     },
     "execution_count": 240,
     "metadata": {},
     "output_type": "execute_result"
    }
   ],
   "source": [
    "results"
   ]
  },
  {
   "cell_type": "code",
   "execution_count": 241,
   "metadata": {},
   "outputs": [
    {
     "data": {
      "text/plain": [
       "495"
      ]
     },
     "execution_count": 241,
     "metadata": {},
     "output_type": "execute_result"
    }
   ],
   "source": [
    "len(results)"
   ]
  },
  {
   "cell_type": "code",
   "execution_count": 242,
   "metadata": {},
   "outputs": [],
   "source": [
    "n_best_size_average = np.hstack((np.array(combs),np.array(results).reshape(no_combs,1)))"
   ]
  },
  {
   "cell_type": "code",
   "execution_count": 243,
   "metadata": {},
   "outputs": [
    {
     "data": {
      "text/plain": [
       "array([[ 2.     , 15.     , 92.47576],\n",
       "       [ 2.     , 16.     , 92.499  ],\n",
       "       [ 2.     , 17.     , 92.45796],\n",
       "       ...,\n",
       "       [10.     , 67.     , 92.22292],\n",
       "       [10.     , 68.     , 92.09392],\n",
       "       [10.     , 69.     , 91.89496]])"
      ]
     },
     "execution_count": 243,
     "metadata": {},
     "output_type": "execute_result"
    }
   ],
   "source": [
    "n_best_size_average"
   ]
  },
  {
   "cell_type": "code",
   "execution_count": 244,
   "metadata": {},
   "outputs": [
    {
     "data": {
      "text/plain": [
       "[]"
      ]
     },
     "execution_count": 244,
     "metadata": {},
     "output_type": "execute_result"
    },
    {
     "data": {
      "image/png": "[encoded data removed]",
      "text/plain": [
       "<Figure size 576x396 with 2 Axes>"
      ]
     },
     "metadata": {},
     "output_type": "display_data"
    }
   ],
   "source": [
    "plt.scatter(n_best_size_average[:,1], n_best_size_average[:,0], c = n_best_size_average[:,2],\n",
    "            cmap = \"magma\", vmin= 93.2, vmax = 94.15)\n",
    "plt.colorbar()\n",
    "plt.xlabel(\"Size of Testgroup\", fontsize = 13)\n",
    "plt.ylabel(\"n_best\", fontsize = 13)\n",
    "plt.plot()"
   ]
  },
  {
   "cell_type": "code",
   "execution_count": 245,
   "metadata": {
    "scrolled": false
   },
   "outputs": [
    {
     "data": {
      "text/plain": [
       "94.1432"
      ]
     },
     "execution_count": 245,
     "metadata": {},
     "output_type": "execute_result"
    }
   ],
   "source": [
    "n_best_size_average[:,2].max()"
   ]
  },
  {
   "cell_type": "code",
   "execution_count": 246,
   "metadata": {
    "scrolled": true
   },
   "outputs": [
    {
     "data": {
      "text/plain": [
       "130"
      ]
     },
     "execution_count": 246,
     "metadata": {},
     "output_type": "execute_result"
    }
   ],
   "source": [
    "n_best_size_average[:,2].argmax()"
   ]
  },
  {
   "cell_type": "code",
   "execution_count": 247,
   "metadata": {},
   "outputs": [
    {
     "data": {
      "text/plain": [
       "array([ 4.    , 35.    , 94.1432])"
      ]
     },
     "execution_count": 247,
     "metadata": {},
     "output_type": "execute_result"
    }
   ],
   "source": [
    "top = n_best_size_average[n_best_size_average[:,2].argmax(),:]\n",
    "top"
   ]
  },
  {
   "cell_type": "code",
   "execution_count": 248,
   "metadata": {},
   "outputs": [],
   "source": [
    "results = Princess_NP(size_testgroup=35, n_best = 4, sims = 100000, metric = \"results\")"
   ]
  },
  {
   "cell_type": "code",
   "execution_count": 249,
   "metadata": {},
   "outputs": [
    {
     "data": {
      "image/png": "[encoded data removed]",
      "text/plain": [
       "<Figure size 576x396 with 1 Axes>"
      ]
     },
     "metadata": {},
     "output_type": "display_data"
    }
   ],
   "source": [
    "plt.hist(results, bins = 101)\n",
    "plt.xlabel(\"Quality of selected Prince (100 is best)\", fontsize = 13)\n",
    "plt.ylabel(\"Frequency\", fontsize = 13)\n",
    "plt.title(\"Prince Selection Frequency Distribution (Applicants = 100, Testgroup = 35, sims = 100000, n_best = 4)\", fontsize = 15)\n",
    "plt.show()"
   ]
  },
  {
   "cell_type": "code",
   "execution_count": 250,
   "metadata": {},
   "outputs": [
    {
     "data": {
      "text/plain": [
       "0.01337"
      ]
     },
     "execution_count": 250,
     "metadata": {},
     "output_type": "execute_result"
    }
   ],
   "source": [
    "list(results).count(0)/100000"
   ]
  },
  {
   "cell_type": "code",
   "execution_count": 251,
   "metadata": {},
   "outputs": [
    {
     "data": {
      "text/plain": [
       "array([ 84., 100.])"
      ]
     },
     "execution_count": 251,
     "metadata": {},
     "output_type": "execute_result"
    }
   ],
   "source": [
    "np.percentile(np.array(results), [2.5, 97.5])"
   ]
  }
 ],
 "metadata": {
  "kernelspec": {
   "display_name": "Python 3",
   "language": "python",
   "name": "python3"
  },
  "language_info": {
   "codemirror_mode": {
    "name": "ipython",
    "version": 3
   },
   "file_extension": ".py",
   "mimetype": "text/x-python",
   "name": "python",
   "nbconvert_exporter": "python",
   "pygments_lexer": "ipython3",
   "version": "3.7.3"
  }
 },
 "nbformat": 4,
 "nbformat_minor": 2
}
